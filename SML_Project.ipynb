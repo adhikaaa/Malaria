{
 "cells": [
  {
   "cell_type": "markdown",
   "metadata": {
    "heading_collapsed": true
   },
   "source": [
    "# Import"
   ]
  },
  {
   "cell_type": "code",
   "execution_count": 1,
   "metadata": {
    "hidden": true
   },
   "outputs": [],
   "source": [
    "import os\n",
    "import cv2\n",
    "import copy\n",
    "import csv\n",
    "import random\n",
    "import pickle\n",
    "import numpy as np\n",
    "import pandas as pd\n",
    "import itertools\n",
    "from scipy.stats import randint\n",
    "from itertools import cycle\n",
    "import matplotlib.pyplot as plt\n",
    "from matplotlib.pyplot import figure"
   ]
  },
  {
   "cell_type": "code",
   "execution_count": 2,
   "metadata": {
    "colab": {},
    "colab_type": "code",
    "hidden": true,
    "id": "n-ExnNAGwCyE"
   },
   "outputs": [],
   "source": [
    "from sklearn import preprocessing\n",
    "from sklearn.manifold import TSNE\n",
    "from sklearn.decomposition import TruncatedSVD\n",
    "from sklearn import metrics\n",
    "from sklearn.model_selection import train_test_split\n",
    "from sklearn import preprocessing\n",
    "from scipy.sparse import csr_matrix\n",
    "from scipy import stats\n",
    "from my_ml_lib import DataManipulationTools, MetricTools, PlotTools\n",
    "from sklearn.model_selection import GridSearchCV\n",
    "from sklearn.model_selection import RandomizedSearchCV"
   ]
  },
  {
   "cell_type": "code",
   "execution_count": 3,
   "metadata": {
    "hidden": true
   },
   "outputs": [],
   "source": [
    "# Import different classifiers\n",
    "from sklearn import svm\n",
    "from sklearn.neural_network import MLPClassifier\n",
    "from xgboost import XGBClassifier\n",
    "from sklearn.naive_bayes import GaussianNB\n",
    "from sklearn.neighbors import KNeighborsClassifier\n",
    "from sklearn.ensemble import BaggingClassifier, RandomForestClassifier, AdaBoostClassifier\n",
    "from sklearn.discriminant_analysis import LinearDiscriminantAnalysis as LDA\n",
    "from sklearn.decomposition import PCA\n",
    "from skimage.feature import hog, local_binary_pattern"
   ]
  },
  {
   "cell_type": "markdown",
   "metadata": {
    "heading_collapsed": true
   },
   "source": [
    "# Functions"
   ]
  },
  {
   "cell_type": "markdown",
   "metadata": {
    "heading_collapsed": true,
    "hidden": true
   },
   "source": [
    "## Write CSV"
   ]
  },
  {
   "cell_type": "code",
   "execution_count": 4,
   "metadata": {
    "hidden": true
   },
   "outputs": [],
   "source": [
    "def write_csv(file, a1, a2, a3, a4, a5, a6, a7, name):\n",
    "    with open(file, mode='w') as csv_file:\n",
    "        csv_writer = csv.writer(csv_file, delimiter=',', quotechar='\"', quoting=csv.QUOTE_MINIMAL)\n",
    "        csv_writer.writerow(name)\n",
    "        for i in range(20):\n",
    "            if a2[i] == None:\n",
    "                a2[i] = 'None'\n",
    "            if a4[i] == None:\n",
    "                a4[i] = 'None'\n",
    "            csv_writer.writerow([a1[i], a2[i], a3[i], a4[i], a5[i], a6[i], a7[i]])"
   ]
  },
  {
   "cell_type": "markdown",
   "metadata": {
    "heading_collapsed": true,
    "hidden": true
   },
   "source": [
    "## Read dataset:"
   ]
  },
  {
   "cell_type": "code",
   "execution_count": 5,
   "metadata": {
    "hidden": true
   },
   "outputs": [],
   "source": [
    "def read_images(path):\n",
    "    images = []\n",
    "    labels = []\n",
    "    num1 = 32\n",
    "    num2 = 32\n",
    "    for file_name in os.listdir(path):\n",
    "        file_path = path + '/' + file_name\n",
    "        for img_name in os.listdir(file_path):\n",
    "            if not img_name.startswith('.'):\n",
    "                if img_name.endswith('.png'):\n",
    "                    img = cv2.imread(file_path + '/' + img_name)\n",
    "                    new_img = cv2.resize(img, (num2, num1))\n",
    "                    images.append(new_img)\n",
    "                    if file_name == 'Parasitized':\n",
    "                        label = 0\n",
    "                    else:\n",
    "                        label = 1\n",
    "                    labels.append(label)\n",
    "    \n",
    "    return np.array(images), np.array(labels)"
   ]
  },
  {
   "cell_type": "markdown",
   "metadata": {
    "heading_collapsed": true,
    "hidden": true
   },
   "source": [
    "## Save / Load Extracted Features:"
   ]
  },
  {
   "cell_type": "code",
   "execution_count": 6,
   "metadata": {
    "hidden": true
   },
   "outputs": [],
   "source": [
    "def save_feature(feature, name):\n",
    "    # saving all our feature vectors in pickled file\n",
    "    with open('cache/' + name + '.pkl', 'wb') as fp:\n",
    "        pickle.dump(csr_matrix(feature), fp)\n",
    "    \n",
    "    print(f'Feature saved with name cache/{name}.pkl')\n",
    "\n",
    "def load_feature(feature_name):\n",
    "    return pickle.load(open(feature_name, 'rb')).A"
   ]
  },
  {
   "cell_type": "markdown",
   "metadata": {
    "heading_collapsed": true,
    "hidden": true
   },
   "source": [
    "## Save / Load Trained Model:"
   ]
  },
  {
   "cell_type": "code",
   "execution_count": 7,
   "metadata": {
    "hidden": true
   },
   "outputs": [],
   "source": [
    "def save_model(model):\n",
    "    filename = input('Enter model file name:')\n",
    "    pickle.dump(model, open('models/'+filename + '.pkl', 'wb'))\n",
    "    print(f'Successfully saved model in models/{filename}.pkl')\n",
    "\n",
    "def load_model(model_name):\n",
    "    return pickle.load(open(model_name, 'rb'))"
   ]
  },
  {
   "cell_type": "markdown",
   "metadata": {
    "heading_collapsed": true,
    "hidden": true
   },
   "source": [
    "## Features:"
   ]
  },
  {
   "cell_type": "markdown",
   "metadata": {
    "heading_collapsed": true,
    "hidden": true
   },
   "source": [
    "### Flattened Image:"
   ]
  },
  {
   "cell_type": "code",
   "execution_count": 8,
   "metadata": {
    "hidden": true
   },
   "outputs": [],
   "source": [
    "def get_flattened(images, color=cv2.COLOR_RGB2GRAY, name='flattened', save=False):\n",
    "    \"\"\"\n",
    "    color: default RGB2GRAY, if None is passed then color is used as it is.\n",
    "    \"\"\"\n",
    "    color_images = []\n",
    "    if color is not None:\n",
    "        for img in images:\n",
    "            color_images.append(cv2.cvtColor(img, color))\n",
    "    else:\n",
    "        color_images = images\n",
    "    \n",
    "    count = len(color_images)\n",
    "    \n",
    "    result = np.array(color_images).reshape(count, -1)\n",
    "    \n",
    "    if save:\n",
    "        save_feature(result, name)\n",
    "        \n",
    "    return result"
   ]
  },
  {
   "cell_type": "markdown",
   "metadata": {
    "heading_collapsed": true,
    "hidden": true
   },
   "source": [
    "### Color Histograms:"
   ]
  },
  {
   "cell_type": "code",
   "execution_count": 9,
   "metadata": {
    "hidden": true
   },
   "outputs": [],
   "source": [
    "def get_color_hist(images, name='color_hist', save=False):\n",
    "    histograms = []\n",
    "    for img in images:\n",
    "        histograms.append(cv2.calcHist([img], [0, 1, 2],None, [8, 8, 8], [0, 256, 0, 256, 0, 256]).flatten())\n",
    "    \n",
    "    result = np.array(histograms)\n",
    "    \n",
    "    if save:\n",
    "        save_feature(result, name)\n",
    "        \n",
    "    return result"
   ]
  },
  {
   "cell_type": "markdown",
   "metadata": {
    "heading_collapsed": true,
    "hidden": true
   },
   "source": [
    "### HOG based Features:"
   ]
  },
  {
   "cell_type": "code",
   "execution_count": 10,
   "metadata": {
    "colab": {
     "base_uri": "https://localhost:8080/",
     "height": 71
    },
    "colab_type": "code",
    "hidden": true,
    "id": "9kmT_2iDfO9e",
    "outputId": "2280667a-c1a0-4261-a85e-665bcf18b77c"
   },
   "outputs": [],
   "source": [
    "def get_hog(images, name='hog', save=False):\n",
    "    result = np.array([hog(img, block_norm='L2') for img in images])\n",
    "    \n",
    "    if save:\n",
    "        save_feature(result, name)\n",
    "        \n",
    "    return result"
   ]
  },
  {
   "cell_type": "markdown",
   "metadata": {
    "heading_collapsed": true,
    "hidden": true
   },
   "source": [
    "### KAZE based features:"
   ]
  },
  {
   "cell_type": "code",
   "execution_count": 11,
   "metadata": {
    "hidden": true
   },
   "outputs": [],
   "source": [
    "def get_kaze(images, name='kaze', save=False):\n",
    "    # KAZE descriptor for 1 image\n",
    "    def get_image_kaze(image, vector_size=32):\n",
    "        alg = cv2.KAZE_create()\n",
    "        kps = alg.detect(image)\n",
    "        kps = sorted(kps, key=lambda x: -x.response)[:vector_size]\n",
    "        \n",
    "        # Making descriptor of same size\n",
    "        # Descriptor vector size is 64\n",
    "        needed_size = (vector_size * 64)\n",
    "        if len(kps) == 0:\n",
    "            return np.zeros(needed_size)\n",
    "        \n",
    "        kps, dsc = alg.compute(image, kps)\n",
    "        dsc = dsc.flatten()\n",
    "        \n",
    "        if dsc.size < needed_size:\n",
    "            # if we have less than 32 descriptors then just adding zeros at the\n",
    "            # end of our feature vector\n",
    "            dsc = np.concatenate([dsc, np.zeros(needed_size - dsc.size)])\n",
    "        return dsc\n",
    "    \n",
    "    # KAZE descriptor for all images\n",
    "    features = []\n",
    "    for i, img in enumerate(images):\n",
    "        dsc = get_image_kaze(img)\n",
    "        features.append(dsc)\n",
    "    \n",
    "    result = np.array(features)\n",
    "    \n",
    "    if save:\n",
    "        save_feature(result, name)\n",
    "        \n",
    "    return result"
   ]
  },
  {
   "cell_type": "markdown",
   "metadata": {
    "heading_collapsed": true,
    "hidden": true
   },
   "source": [
    "### SIFT based Features:"
   ]
  },
  {
   "cell_type": "code",
   "execution_count": 12,
   "metadata": {
    "hidden": true
   },
   "outputs": [],
   "source": [
    "def get_sift(images, name='sift', save=False):\n",
    "    # SIFT descriptor for 1 image\n",
    "    def get_image_sift(image, vector_size=15):\n",
    "        alg = cv2.xfeatures2d.SIFT_create()\n",
    "        kps = alg.detect(image, None)\n",
    "        kps = sorted(kps, key=lambda x: -x.response)[:vector_size]\n",
    "        \n",
    "        # Making descriptor of same size\n",
    "        # Descriptor vector size is 128\n",
    "        needed_size = (vector_size * 128)\n",
    "        if len(kps) == 0:\n",
    "            return np.zeros(needed_size)\n",
    "        \n",
    "        kps, dsc = alg.compute(image, kps)\n",
    "        dsc = dsc.flatten()\n",
    "        if dsc.size < needed_size:\n",
    "            # if we have less than 32 descriptors then just adding zeros at the\n",
    "            # end of our feature vector\n",
    "            dsc = np.concatenate([dsc, np.zeros(needed_size - dsc.size)])\n",
    "            \n",
    "        return dsc\n",
    "    \n",
    "    # SIFT descriptor for all images\n",
    "    features = []\n",
    "    for i, img in enumerate(images):\n",
    "        dsc = get_image_sift(img)\n",
    "        features.append(dsc)\n",
    "\n",
    "    result = np.array(features)\n",
    "    \n",
    "    if save:\n",
    "        save_feature(result, name)\n",
    "        \n",
    "    return result"
   ]
  },
  {
   "cell_type": "code",
   "execution_count": 13,
   "metadata": {
    "hidden": true
   },
   "outputs": [],
   "source": [
    "def return_sift_kp(image):\n",
    "    alg = cv2.xfeatures2d.SIFT_create()\n",
    "    kps = alg.detect(image, None)\n",
    "    kps = sorted(kps, key=lambda x: -x.response)[:15]\n",
    "\n",
    "    # Making descriptor of same size\n",
    "    # Descriptor vector size is 128\n",
    "    needed_size = (15 * 128)\n",
    "    if len(kps) == 0:\n",
    "        dsc = np.zeros(needed_size)\n",
    "    else:\n",
    "        kps, dsc = alg.compute(image, kps)\n",
    "        dsc = dsc.flatten()\n",
    "        if dsc.size < needed_size:\n",
    "            # if we have less than 32 descriptors then just adding zeros at the\n",
    "            # end of our feature vector\n",
    "            dsc = np.concatenate([dsc, np.zeros(needed_size - dsc.size)])\n",
    "    return kps"
   ]
  },
  {
   "cell_type": "markdown",
   "metadata": {
    "heading_collapsed": true,
    "hidden": true
   },
   "source": [
    "### SURF based Features:"
   ]
  },
  {
   "cell_type": "code",
   "execution_count": 14,
   "metadata": {
    "hidden": true
   },
   "outputs": [],
   "source": [
    "def get_surf(images, name='surf', save=False):\n",
    "    # SURF descriptor for 1 image\n",
    "    def get_image_surf(image, vector_size=4):\n",
    "        alg = cv2.xfeatures2d.SURF_create()\n",
    "        kps = alg.detect(image, None)\n",
    "        kps = sorted(kps, key=lambda x: -x.response)[:vector_size]\n",
    "        \n",
    "        # Making descriptor of same size\n",
    "        # Descriptor vector size is 64\n",
    "        needed_size = (vector_size * 64)\n",
    "        if len(kps) == 0:\n",
    "            return np.zeros(needed_size)\n",
    "        \n",
    "        kps, dsc = alg.compute(image, kps)\n",
    "        dsc = dsc.flatten()\n",
    "        if dsc.size < needed_size:\n",
    "            # if we have less than 32 descriptors then just adding zeros at the\n",
    "            # end of our feature vector\n",
    "            dsc = np.concatenate([dsc, np.zeros(needed_size - dsc.size)])\n",
    "            \n",
    "        return dsc\n",
    "    \n",
    "    # SURF descriptor for all images\n",
    "    features = []\n",
    "    for i, img in enumerate(images):\n",
    "        dsc = get_image_surf(img)\n",
    "        features.append(dsc)\n",
    "    \n",
    "    result = np.array(features)\n",
    "    \n",
    "    if save:\n",
    "        save_feature(result, name)\n",
    "        \n",
    "    return result"
   ]
  },
  {
   "cell_type": "code",
   "execution_count": 15,
   "metadata": {
    "hidden": true
   },
   "outputs": [],
   "source": [
    "def return_surf_kp(image):\n",
    "    alg = cv2.xfeatures2d.SURF_create()\n",
    "    kps = alg.detect(image, None)\n",
    "    kps = sorted(kps, key=lambda x: -x.response)[:4]\n",
    "\n",
    "    # Making descriptor of same size\n",
    "    # Descriptor vector size is 64\n",
    "    needed_size = (15 * 64)\n",
    "    if len(kps) == 0:\n",
    "        dsc = np.zeros(needed_size)\n",
    "    else:\n",
    "        kps, dsc = alg.compute(image, kps)\n",
    "        dsc = dsc.flatten()\n",
    "        if dsc.size < needed_size:\n",
    "            # if we have less than 32 descriptors then just adding zeros at the\n",
    "            # end of our feature vector\n",
    "            dsc = np.concatenate([dsc, np.zeros(needed_size - dsc.size)])\n",
    "    return kps"
   ]
  },
  {
   "cell_type": "markdown",
   "metadata": {
    "heading_collapsed": true,
    "hidden": true
   },
   "source": [
    "### LBP Feature:"
   ]
  },
  {
   "cell_type": "code",
   "execution_count": 16,
   "metadata": {
    "hidden": true
   },
   "outputs": [],
   "source": [
    "def get_lbp(images, name='lbp', save=False):\n",
    "    result = np.array([local_binary_pattern(cv2.cvtColor(img, cv2.COLOR_RGB2GRAY), 10, 3).flatten() for img in images])\n",
    "    \n",
    "    if save:\n",
    "        save_feature(result, name)\n",
    "        \n",
    "    return result"
   ]
  },
  {
   "cell_type": "markdown",
   "metadata": {
    "heading_collapsed": true,
    "hidden": true
   },
   "source": [
    "### Combine Features:"
   ]
  },
  {
   "cell_type": "code",
   "execution_count": 17,
   "metadata": {
    "hidden": true
   },
   "outputs": [],
   "source": [
    "def combine_features(features, horizontal=True):\n",
    "    \"\"\"\n",
    "    Array of features [f1, f2, f3] where each fi is a feature set \n",
    "    eg. f1=rgb_flat, f2=SIFT, etc.\n",
    "    \"\"\"\n",
    "    if horizontal:\n",
    "        return np.hstack(features)\n",
    "    else:\n",
    "        return np.vstack(features)"
   ]
  },
  {
   "cell_type": "markdown",
   "metadata": {
    "heading_collapsed": true,
    "hidden": true
   },
   "source": [
    "### Normalize features:"
   ]
  },
  {
   "cell_type": "code",
   "execution_count": 18,
   "metadata": {
    "hidden": true
   },
   "outputs": [],
   "source": [
    "def norm_features_minmax(train, test):\n",
    "    min_max_scaler = preprocessing.MinMaxScaler()\n",
    "    norm_train = min_max_scaler.fit_transform(train)\n",
    "    norm_test = min_max_scaler.transform(test)\n",
    "    \n",
    "    return norm_train, norm_test"
   ]
  },
  {
   "cell_type": "code",
   "execution_count": 19,
   "metadata": {
    "hidden": true
   },
   "outputs": [],
   "source": [
    "def norm_features_zscore(train, test):\n",
    "    min_max_scaler = preprocessing.StandardScaler()\n",
    "    norm_train = min_max_scaler.fit_transform(train)\n",
    "    norm_test = min_max_scaler.transform(test)\n",
    "    \n",
    "    return norm_train, norm_test"
   ]
  },
  {
   "cell_type": "markdown",
   "metadata": {
    "heading_collapsed": true,
    "hidden": true
   },
   "source": [
    "## Classifiers:"
   ]
  },
  {
   "cell_type": "code",
   "execution_count": 168,
   "metadata": {
    "hidden": true
   },
   "outputs": [],
   "source": [
    "def train_model(train_x, train_y, model_name='NB', validation=None):\n",
    "    \"\"\"\n",
    "    Possible model names: ['NB', 'SVM', 'XGB', 'MLP', 'ADA', 'BAG', 'RF']\n",
    "    default = 'NB'\n",
    "    \n",
    "    validation: (val_x, val_y) tupple for validation accuracy score.\n",
    "    \n",
    "    return: trained model\n",
    "    \"\"\"\n",
    "    model = None\n",
    "    if model_name == 'SVM':\n",
    "        model = svm.SVC(gamma='scale', probability=True)\n",
    "    elif model_name == 'XGB':\n",
    "        model = XGBClassifier(n_estimators=200, max_depth=5, n_jobs=2)\n",
    "#         model = XGBClassifier()\n",
    "    elif model_name == 'MLP':\n",
    "        model = MLPClassifier(hidden_layer_sizes=(100,100,100), max_iter=800, alpha=0.0001,\n",
    "                     solver='sgd', verbose=10, tol=0.000000001)\n",
    "    elif model_name == 'ADA':\n",
    "        model = AdaBoostClassifier(n_estimators=50)\n",
    "    elif model_name == 'BAG':\n",
    "        model = BaggingClassifier(n_jobs=2, n_estimators=50)\n",
    "    elif model_name == 'RF':\n",
    "        model = RandomForestClassifier(n_estimators=200, max_depth=10)\n",
    "    elif model_name == 'KNN':\n",
    "        model = KNeighborsClassifier(n_neighbors=5, weights='distance', algorithm='auto', leaf_size=30, p=2, metric='minkowski', metric_params=None, n_jobs=None)\n",
    "    else:\n",
    "        model = GaussianNB()\n",
    "    \n",
    "    model.fit(train_x, train_y)\n",
    "    \n",
    "    if validation is not None:\n",
    "        y_hat = model.predict(validation[0])\n",
    "        acc = metrics.accuracy_score(validation[1], y_hat)\n",
    "        print(f\"Validation Accuracy in '{model_name}' = {acc}\")\n",
    "        cm = metrics.confusion_matrix(validation[1], y_hat)\n",
    "        print(cm)\n",
    "        recall = cm[0][0] / (cm[0][0] + cm[0][1])\n",
    "        precision = cm[0][0] / (cm[0][0] + cm[1][0])\n",
    "        f1 = 2*(precision*recall)/(precision+recall)\n",
    "        print(f\"Recall in '{model_name}' = {recall}\")\n",
    "        print(f\"Precision in '{model_name}' = {precision}\")\n",
    "        print(f\"F1 Score in '{model_name}' = {f1}\")\n",
    "               \n",
    "    return model"
   ]
  },
  {
   "cell_type": "markdown",
   "metadata": {
    "heading_collapsed": true,
    "hidden": true
   },
   "source": [
    "## ROC"
   ]
  },
  {
   "cell_type": "code",
   "execution_count": 217,
   "metadata": {
    "hidden": true
   },
   "outputs": [],
   "source": [
    "def plot_roc(fpr, tpr, class_name, area):\n",
    "    figure(num=None, figsize=(12, 6), dpi=80, facecolor='w', edgecolor='k')\n",
    "    \n",
    "    plt.plot(fpr,tpr)\n",
    "\n",
    "    plt.xlabel('False Positive Rate')\n",
    "    plt.ylabel('True Positive Rate')\n",
    "\n",
    "    plt.show()"
   ]
  },
  {
   "cell_type": "code",
   "execution_count": 333,
   "metadata": {
    "hidden": true
   },
   "outputs": [],
   "source": [
    "def plot_combine_roc(test_y, prob):\n",
    "    n_classes = 7\n",
    "    name_arr = ['RF', 'BAG', 'ADA', 'NB', 'SVM', 'XGB', 'KNN']\n",
    "    fpr = dict()\n",
    "    tpr = dict()\n",
    "    roc_auc = dict()\n",
    "    for i in range(n_classes):\n",
    "        fpr[i], tpr[i], _ = metrics.roc_curve(test_y, prob[:, i])\n",
    "        roc_auc[i] = metrics.roc_auc_score(test_y,  prob[:, i])\n",
    "\n",
    "    figure(num=None, figsize=(12, 6), dpi=80, facecolor='w', edgecolor='k')\n",
    "    colors = cycle(['darkorange', 'cornflowerblue', 'red', 'purple', 'pink', 'violet', 'green'])\n",
    "    for i, color in zip(range(n_classes), colors):\n",
    "        plt.plot(fpr[i], tpr[i], color=color,\n",
    "                 label='ROC curve for ' + name_arr[i] + ' class (area = {1:0.2f})'\n",
    "                 ''.format(i, roc_auc[i]))\n",
    "\n",
    "    plt.xlabel('False Positive Rate')\n",
    "    plt.ylabel('True Positive Rate')\n",
    "    plt.legend()\n",
    "#     plt.savefig('output/roc_lda_on_pca_uninfected.png')\n",
    "    plt.show()"
   ]
  },
  {
   "cell_type": "markdown",
   "metadata": {
    "heading_collapsed": true,
    "hidden": true
   },
   "source": [
    "## CM"
   ]
  },
  {
   "cell_type": "code",
   "execution_count": 23,
   "metadata": {
    "hidden": true
   },
   "outputs": [],
   "source": [
    "def confusion_mat(cm, classes, title='Confusion matrix', cmap=plt.cm.Blues, figsize=(7,7), path=None, filename=None):\n",
    "        \"\"\"\n",
    "        cm: confusion matrix to be plotted.\n",
    "        classes: array of labels or class names.\n",
    "        title: title of the confusion matrix.\n",
    "        cmap: color of the plot matrix.\n",
    "        figsize: tupple (width, height) representiong size of the plot.\n",
    "        path: destination where the plot image will be saved.\n",
    "        filename: name to save the file with on the specified path. (if None, title is used)\n",
    "        \n",
    "        # Source: https://scikit-learn.org/stable/auto_examples/model_selection/plot_confusion_matrix.html\n",
    "        \"\"\"\n",
    "        cm = cm.astype(np.int64)\n",
    "        plt.figure(figsize=figsize)\n",
    "        plt.imshow(cm, interpolation='nearest', cmap=cmap)\n",
    "        plt.title(title)\n",
    "        plt.colorbar()\n",
    "        tick_marks = np.arange(len(classes))\n",
    "        plt.xticks(tick_marks, classes, rotation=45)\n",
    "        plt.yticks(tick_marks, classes)\n",
    "\n",
    "        fmt = 'd'\n",
    "        thresh = cm.max() / 2.\n",
    "        for i, j in itertools.product(range(cm.shape[0]), range(cm.shape[1])):\n",
    "            plt.text(j, i, format(cm[i, j], fmt),\n",
    "                     horizontalalignment=\"center\",\n",
    "                     color=\"white\" if cm[i, j] > thresh else \"black\")\n",
    "        plt.grid(False)\n",
    "        plt.ylabel('True label')\n",
    "        plt.xlabel('Predicted label')\n",
    "        plt.tight_layout()\n",
    "        \n",
    "        if path:\n",
    "            if filename is None:\n",
    "                plt.savefig(path + title + '.png')\n",
    "            else:\n",
    "                plt.savefig(path + filename + '.png')\n",
    "        plt.show()"
   ]
  },
  {
   "cell_type": "markdown",
   "metadata": {
    "heading_collapsed": true,
    "hidden": true
   },
   "source": [
    "## PCA projected data"
   ]
  },
  {
   "cell_type": "code",
   "execution_count": 24,
   "metadata": {
    "hidden": true
   },
   "outputs": [],
   "source": [
    "def pca_projection(mat, name_arr):\n",
    "    plt.figure(figsize=(15,20))\n",
    "    for i, img in enumerate(mat, start=1):\n",
    "        plt.subplot(4, 2, i)\n",
    "        y = np.var(mat[i-1], axis=0)\n",
    "        x = list(range(1, len(y)+1))\n",
    "        plt.plot(x, y, '--o')\n",
    "        plt.ylabel('Variance')\n",
    "        plt.xlabel('Data Projected on Eigen Vector Number')\n",
    "        plt.xticks(x)\n",
    "        plt.title(name_arr[i-1])\n",
    "    plt.savefig('output/pca/subplot.jpg')\n",
    "    plt.show()"
   ]
  },
  {
   "cell_type": "code",
   "execution_count": 25,
   "metadata": {
    "hidden": true
   },
   "outputs": [],
   "source": [
    "def draw_key_points(image, kp):\n",
    "    img = cv2.drawKeypoints(image, kp, None, flags=cv2.DRAW_MATCHES_FLAGS_DRAW_RICH_KEYPOINTS)\n",
    "    return img"
   ]
  },
  {
   "cell_type": "markdown",
   "metadata": {},
   "source": [
    "# Main calls"
   ]
  },
  {
   "cell_type": "markdown",
   "metadata": {
    "heading_collapsed": true
   },
   "source": [
    "## Read and split data"
   ]
  },
  {
   "cell_type": "markdown",
   "metadata": {
    "heading_collapsed": true,
    "hidden": true
   },
   "source": [
    "### Read and Store"
   ]
  },
  {
   "cell_type": "code",
   "execution_count": 22,
   "metadata": {
    "hidden": true
   },
   "outputs": [],
   "source": [
    "full_data_x, full_data_y = read_images('cell_images')"
   ]
  },
  {
   "cell_type": "code",
   "execution_count": 23,
   "metadata": {
    "hidden": true
   },
   "outputs": [
    {
     "data": {
      "text/plain": [
       "((27558, 32, 32, 3), (27558,))"
      ]
     },
     "execution_count": 23,
     "metadata": {},
     "output_type": "execute_result"
    }
   ],
   "source": [
    "full_data_x.shape, full_data_y.shape"
   ]
  },
  {
   "cell_type": "code",
   "execution_count": 24,
   "metadata": {
    "hidden": true
   },
   "outputs": [
    {
     "data": {
      "text/plain": [
       "(32, 32, 3)"
      ]
     },
     "execution_count": 24,
     "metadata": {},
     "output_type": "execute_result"
    }
   ],
   "source": [
    "full_data_x[2].shape"
   ]
  },
  {
   "cell_type": "code",
   "execution_count": 25,
   "metadata": {
    "hidden": true
   },
   "outputs": [],
   "source": [
    "data_x, test_x, data_y, test_y = train_test_split(full_data_x, full_data_y, test_size=0.2)"
   ]
  },
  {
   "cell_type": "code",
   "execution_count": 26,
   "metadata": {
    "hidden": true
   },
   "outputs": [
    {
     "data": {
      "text/plain": [
       "((22046, 32, 32, 3), (5512, 32, 32, 3), (22046,), (5512,))"
      ]
     },
     "execution_count": 26,
     "metadata": {},
     "output_type": "execute_result"
    }
   ],
   "source": [
    "data_x.shape, test_x.shape, data_y.shape, test_y.shape"
   ]
  },
  {
   "cell_type": "code",
   "execution_count": 27,
   "metadata": {
    "hidden": true
   },
   "outputs": [],
   "source": [
    "train_imgs, val_imgs, train_y, val_y = train_test_split(data_x, data_y, test_size=0.2)"
   ]
  },
  {
   "cell_type": "code",
   "execution_count": 28,
   "metadata": {
    "hidden": true
   },
   "outputs": [
    {
     "data": {
      "text/plain": [
       "((17636, 32, 32, 3), (4410, 32, 32, 3), (17636,), (4410,))"
      ]
     },
     "execution_count": 28,
     "metadata": {},
     "output_type": "execute_result"
    }
   ],
   "source": [
    "train_imgs.shape, val_imgs.shape, train_y.shape, val_y.shape"
   ]
  },
  {
   "cell_type": "code",
   "execution_count": null,
   "metadata": {
    "hidden": true
   },
   "outputs": [],
   "source": [
    "np.save('data/train_imgs.npy', train_imgs)\n",
    "np.save('data/train_y.npy', train_y)\n",
    "np.save('data/val_imgs.npy', val_imgs)\n",
    "np.save('data/val_y.npy', val_y)\n",
    "\n",
    "np.save('data/data_x.npy', data_x)\n",
    "np.save('data/data_y.npy', data_y)\n",
    "np.save('data/test_x.npy', test_x)\n",
    "np.save('data/test_y.npy', test_y)"
   ]
  },
  {
   "cell_type": "markdown",
   "metadata": {
    "heading_collapsed": true,
    "hidden": true
   },
   "source": [
    "### Load"
   ]
  },
  {
   "cell_type": "code",
   "execution_count": 26,
   "metadata": {
    "hidden": true
   },
   "outputs": [],
   "source": [
    "train_imgs = np.load('data/train_imgs.npy')\n",
    "train_y = np.load('data/train_y.npy')\n",
    "val_imgs = np.load('data/val_imgs.npy')\n",
    "val_y = np.load('data/val_y.npy')\n",
    "\n",
    "data_x = np.load('data/data_x.npy')\n",
    "data_y = np.load('data/data_y.npy')\n",
    "test_x = np.load('data/test_x.npy')\n",
    "test_y = np.load('data/test_y.npy')"
   ]
  },
  {
   "cell_type": "code",
   "execution_count": 27,
   "metadata": {
    "hidden": true
   },
   "outputs": [
    {
     "data": {
      "text/plain": [
       "((22046, 32, 32, 3), (5512, 32, 32, 3), (22046,), (5512,))"
      ]
     },
     "execution_count": 27,
     "metadata": {},
     "output_type": "execute_result"
    }
   ],
   "source": [
    "data_x.shape, test_x.shape, data_y.shape, test_y.shape"
   ]
  },
  {
   "cell_type": "code",
   "execution_count": 28,
   "metadata": {
    "hidden": true
   },
   "outputs": [
    {
     "data": {
      "text/plain": [
       "((17636, 32, 32, 3), (4410, 32, 32, 3), (17636,), (4410,))"
      ]
     },
     "execution_count": 28,
     "metadata": {},
     "output_type": "execute_result"
    }
   ],
   "source": [
    "train_imgs.shape, val_imgs.shape, train_y.shape, val_y.shape"
   ]
  },
  {
   "cell_type": "markdown",
   "metadata": {
    "heading_collapsed": true
   },
   "source": [
    "## Training:\n"
   ]
  },
  {
   "cell_type": "markdown",
   "metadata": {
    "heading_collapsed": true,
    "hidden": true
   },
   "source": [
    "### Training & Validation set features:"
   ]
  },
  {
   "cell_type": "markdown",
   "metadata": {
    "heading_collapsed": true,
    "hidden": true
   },
   "source": [
    "#### Data visualization:"
   ]
  },
  {
   "cell_type": "code",
   "execution_count": 346,
   "metadata": {
    "hidden": true
   },
   "outputs": [],
   "source": [
    "infected_img = train_imgs[train_y == 0][8]\n",
    "uninfected_img = train_imgs[train_y == 1][4]\n",
    "classes = []\n",
    "classes.append(infected_img)\n",
    "classes.append(uninfected_img)\n",
    "class_label= []\n",
    "class_label.append('infected image')\n",
    "class_label.append('uninfected image')"
   ]
  },
  {
   "cell_type": "code",
   "execution_count": 347,
   "metadata": {
    "hidden": true
   },
   "outputs": [],
   "source": [
    "vis_img = np.zeros((2, 32, 32))\n",
    "lbp_img = np.zeros((2, 32, 32))\n",
    "sift = np.zeros((2, 32, 32, 3), dtype='uint8')\n",
    "surf = np.zeros((2, 32, 32, 3), dtype='uint8')\n",
    "\n",
    "for i in range(2):\n",
    "    temp1, vis_img[i] = hog(classes[i], block_norm='L2', visualize=True)\n",
    "    lbp_img[i] = local_binary_pattern(cv2.cvtColor(classes[i], cv2.COLOR_RGB2GRAY), 10, 3)\n",
    "    sift[i] = draw_key_points(cv2.cvtColor(classes[i], cv2.COLOR_RGB2GRAY), return_sift_kp(classes[i]))\n",
    "    surf[i] = draw_key_points(cv2.cvtColor(classes[i], cv2.COLOR_RGB2GRAY), return_surf_kp(classes[i]))"
   ]
  },
  {
   "cell_type": "code",
   "execution_count": 348,
   "metadata": {
    "hidden": true
   },
   "outputs": [],
   "source": [
    "data_vis = []\n",
    "for i in range(len(classes)):\n",
    "    data_vis.append(classes[i])\n",
    "for i in range(len(classes)):\n",
    "    data_vis.append(vis_img[i])\n",
    "for i in range(len(classes)):\n",
    "    data_vis.append(lbp_img[i])\n",
    "for i in range(len(classes)):\n",
    "    data_vis.append(sift[i])\n",
    "for i in range(len(classes)):\n",
    "    data_vis.append(surf[i])\n",
    "\n",
    "img_name_arr = []\n",
    "for i in range(len(classes)):\n",
    "    img_name_arr.append(class_label[i])\n",
    "for i in range(len(classes)):\n",
    "    img_name_arr.append('HOG')\n",
    "for i in range(len(classes)):\n",
    "    img_name_arr.append('LBP')\n",
    "for i in range(len(classes)):\n",
    "    img_name_arr.append('SIFT')\n",
    "for i in range(len(classes)):\n",
    "    img_name_arr.append('SURF')"
   ]
  },
  {
   "cell_type": "code",
   "execution_count": 351,
   "metadata": {
    "hidden": true
   },
   "outputs": [
    {
     "data": {
      "image/png": "[encoded data removed]",
      "text/plain": [
       "<Figure size 288x720 with 10 Axes>"
      ]
     },
     "metadata": {
      "needs_background": "light"
     },
     "output_type": "display_data"
    }
   ],
   "source": [
    "plt.figure(figsize=(4,10))\n",
    "for i, img in enumerate(data_vis, start=1):\n",
    "    plt.subplot(5, 2, i)\n",
    "    plt.title(img_name_arr[i-1])\n",
    "    frame1 = plt.gca()\n",
    "    for tick in frame1.axes.get_xticklines():\n",
    "        tick.set_visible(False)\n",
    "    for tick in frame1.axes.get_yticklines():\n",
    "        tick.set_visible(False)\n",
    "    for xlabel_i in frame1.axes.get_xticklabels():\n",
    "        xlabel_i.set_visible(False)\n",
    "    for xlabel_i in frame1.axes.get_yticklabels():\n",
    "        xlabel_i.set_visible(False)\n",
    "    plt.imshow(data_vis[i-1], cmap='gray')\n",
    "plt.savefig('output/feature_visualization.png')\n",
    "plt.show()"
   ]
  },
  {
   "cell_type": "markdown",
   "metadata": {
    "heading_collapsed": true,
    "hidden": true
   },
   "source": [
    "#### HOG Features:"
   ]
  },
  {
   "cell_type": "code",
   "execution_count": 29,
   "metadata": {
    "colab": {
     "base_uri": "https://localhost:8080/",
     "height": 71
    },
    "colab_type": "code",
    "hidden": true,
    "id": "9kmT_2iDfO9e",
    "outputId": "2280667a-c1a0-4261-a85e-665bcf18b77c"
   },
   "outputs": [
    {
     "name": "stdout",
     "output_type": "stream",
     "text": [
      "Feature saved with name cache/hog_train.pkl\n",
      "Feature saved with name cache/hog_val.pkl\n"
     ]
    }
   ],
   "source": [
    "hog_train = get_hog(train_imgs, name='hog_train', save=True)\n",
    "hog_val = get_hog(val_imgs, name='hog_val', save=True)"
   ]
  },
  {
   "cell_type": "code",
   "execution_count": 30,
   "metadata": {
    "hidden": true
   },
   "outputs": [],
   "source": [
    "hog_train = load_feature('cache/hog_train.pkl')\n",
    "hog_val = load_feature('cache/hog_val.pkl')"
   ]
  },
  {
   "cell_type": "code",
   "execution_count": 31,
   "metadata": {
    "hidden": true
   },
   "outputs": [
    {
     "data": {
      "text/plain": [
       "((17636, 324), (4410, 324))"
      ]
     },
     "execution_count": 31,
     "metadata": {},
     "output_type": "execute_result"
    }
   ],
   "source": [
    "hog_train.shape, hog_val.shape"
   ]
  },
  {
   "cell_type": "markdown",
   "metadata": {
    "heading_collapsed": true,
    "hidden": true
   },
   "source": [
    "#### LBP Features:"
   ]
  },
  {
   "cell_type": "code",
   "execution_count": 32,
   "metadata": {
    "colab": {
     "base_uri": "https://localhost:8080/",
     "height": 71
    },
    "colab_type": "code",
    "hidden": true,
    "id": "9kmT_2iDfO9e",
    "outputId": "2280667a-c1a0-4261-a85e-665bcf18b77c"
   },
   "outputs": [
    {
     "name": "stdout",
     "output_type": "stream",
     "text": [
      "Feature saved with name cache/lbp_train.pkl\n",
      "Feature saved with name cache/lbp_val.pkl\n"
     ]
    }
   ],
   "source": [
    "lbp_train = get_lbp(train_imgs, name='lbp_train', save=True)\n",
    "lbp_val = get_lbp(val_imgs, name='lbp_val', save=True)"
   ]
  },
  {
   "cell_type": "code",
   "execution_count": 33,
   "metadata": {
    "hidden": true
   },
   "outputs": [],
   "source": [
    "lbp_train = load_feature('cache/lbp_train.pkl')\n",
    "lbp_val = load_feature('cache/lbp_val.pkl')"
   ]
  },
  {
   "cell_type": "code",
   "execution_count": 34,
   "metadata": {
    "hidden": true
   },
   "outputs": [
    {
     "data": {
      "text/plain": [
       "((17636, 1024), (4410, 1024))"
      ]
     },
     "execution_count": 34,
     "metadata": {},
     "output_type": "execute_result"
    }
   ],
   "source": [
    "lbp_train.shape, lbp_val.shape"
   ]
  },
  {
   "cell_type": "markdown",
   "metadata": {
    "heading_collapsed": true,
    "hidden": true
   },
   "source": [
    "#### KAZE Features:"
   ]
  },
  {
   "cell_type": "code",
   "execution_count": 36,
   "metadata": {
    "colab": {
     "base_uri": "https://localhost:8080/",
     "height": 71
    },
    "colab_type": "code",
    "hidden": true,
    "id": "9kmT_2iDfO9e",
    "outputId": "2280667a-c1a0-4261-a85e-665bcf18b77c"
   },
   "outputs": [
    {
     "name": "stdout",
     "output_type": "stream",
     "text": [
      "Feature saved with name cache/kaze_train.pkl\n",
      "Feature saved with name cache/kaze_val.pkl\n"
     ]
    }
   ],
   "source": [
    "kaze_train = get_kaze(train_imgs, name='kaze_train', save=True)\n",
    "kaze_val = get_kaze(val_imgs, name='kaze_val', save=True)"
   ]
  },
  {
   "cell_type": "code",
   "execution_count": 37,
   "metadata": {
    "hidden": true
   },
   "outputs": [],
   "source": [
    "kaze_train = load_feature('cache/kaze_train.pkl')\n",
    "kaze_val = load_feature('cache/kaze_val.pkl')"
   ]
  },
  {
   "cell_type": "code",
   "execution_count": 38,
   "metadata": {
    "hidden": true
   },
   "outputs": [
    {
     "data": {
      "text/plain": [
       "((17636, 2048), (4410, 2048))"
      ]
     },
     "execution_count": 38,
     "metadata": {},
     "output_type": "execute_result"
    }
   ],
   "source": [
    "kaze_train.shape, kaze_val.shape"
   ]
  },
  {
   "cell_type": "markdown",
   "metadata": {
    "heading_collapsed": true,
    "hidden": true
   },
   "source": [
    "#### SIFT Features:"
   ]
  },
  {
   "cell_type": "code",
   "execution_count": 39,
   "metadata": {
    "hidden": true
   },
   "outputs": [
    {
     "name": "stdout",
     "output_type": "stream",
     "text": [
      "Feature saved with name cache/sift_train.pkl\n",
      "Feature saved with name cache/sift_val.pkl\n"
     ]
    }
   ],
   "source": [
    "sift_train = get_sift(train_imgs, name='sift_train', save=True)\n",
    "sift_val = get_sift(val_imgs, name='sift_val', save=True)"
   ]
  },
  {
   "cell_type": "code",
   "execution_count": 40,
   "metadata": {
    "hidden": true
   },
   "outputs": [],
   "source": [
    "sift_train = load_feature('cache/sift_train.pkl')\n",
    "sift_val = load_feature('cache/sift_val.pkl')"
   ]
  },
  {
   "cell_type": "code",
   "execution_count": 41,
   "metadata": {
    "hidden": true
   },
   "outputs": [
    {
     "data": {
      "text/plain": [
       "((17636, 1920), (4410, 1920))"
      ]
     },
     "execution_count": 41,
     "metadata": {},
     "output_type": "execute_result"
    }
   ],
   "source": [
    "sift_train.shape, sift_val.shape"
   ]
  },
  {
   "cell_type": "markdown",
   "metadata": {
    "heading_collapsed": true,
    "hidden": true
   },
   "source": [
    "#### SURF Features:"
   ]
  },
  {
   "cell_type": "code",
   "execution_count": 44,
   "metadata": {
    "hidden": true
   },
   "outputs": [
    {
     "name": "stdout",
     "output_type": "stream",
     "text": [
      "Feature saved with name cache/surf_train.pkl\n",
      "Feature saved with name cache/surf_val.pkl\n"
     ]
    }
   ],
   "source": [
    "surf_train = get_surf(train_imgs, name='surf_train', save=True)\n",
    "surf_val = get_surf(val_imgs, name='surf_val', save=True)"
   ]
  },
  {
   "cell_type": "code",
   "execution_count": 45,
   "metadata": {
    "hidden": true
   },
   "outputs": [],
   "source": [
    "surf_train = load_feature('cache/surf_train.pkl')\n",
    "surf_val = load_feature('cache/surf_val.pkl')"
   ]
  },
  {
   "cell_type": "code",
   "execution_count": 46,
   "metadata": {
    "hidden": true
   },
   "outputs": [
    {
     "data": {
      "text/plain": [
       "((17636, 256), (4410, 256))"
      ]
     },
     "execution_count": 46,
     "metadata": {},
     "output_type": "execute_result"
    }
   ],
   "source": [
    "surf_train.shape, surf_val.shape"
   ]
  },
  {
   "cell_type": "markdown",
   "metadata": {
    "heading_collapsed": true,
    "hidden": true
   },
   "source": [
    "#### Flattened Image"
   ]
  },
  {
   "cell_type": "markdown",
   "metadata": {
    "heading_collapsed": true,
    "hidden": true
   },
   "source": [
    "##### RGB:"
   ]
  },
  {
   "cell_type": "code",
   "execution_count": 47,
   "metadata": {
    "hidden": true
   },
   "outputs": [
    {
     "name": "stdout",
     "output_type": "stream",
     "text": [
      "Feature saved with name cache/flat_rgb_train.pkl\n",
      "Feature saved with name cache/flat_rgb_val.pkl\n"
     ]
    }
   ],
   "source": [
    "flat_rgb_train = get_flattened(train_imgs, None, name='flat_rgb_train', save=True)\n",
    "flat_rgb_val = get_flattened(val_imgs, None, name='flat_rgb_val', save=True)"
   ]
  },
  {
   "cell_type": "code",
   "execution_count": 48,
   "metadata": {
    "hidden": true
   },
   "outputs": [],
   "source": [
    "flat_rgb_train = load_feature('cache/flat_rgb_train.pkl')\n",
    "flat_rgb_val = load_feature('cache/flat_rgb_val.pkl')"
   ]
  },
  {
   "cell_type": "code",
   "execution_count": 49,
   "metadata": {
    "hidden": true
   },
   "outputs": [
    {
     "data": {
      "text/plain": [
       "((17636, 3072), (4410, 3072))"
      ]
     },
     "execution_count": 49,
     "metadata": {},
     "output_type": "execute_result"
    }
   ],
   "source": [
    "flat_rgb_train.shape, flat_rgb_val.shape"
   ]
  },
  {
   "cell_type": "markdown",
   "metadata": {
    "heading_collapsed": true,
    "hidden": true
   },
   "source": [
    "##### GRAY:"
   ]
  },
  {
   "cell_type": "code",
   "execution_count": 50,
   "metadata": {
    "hidden": true
   },
   "outputs": [
    {
     "name": "stdout",
     "output_type": "stream",
     "text": [
      "Feature saved with name cache/flat_gray_train.pkl\n",
      "Feature saved with name cache/flat_gray_val.pkl\n"
     ]
    }
   ],
   "source": [
    "flat_gray_train = get_flattened(train_imgs, name='flat_gray_train', save=True)\n",
    "flat_gray_val = get_flattened(val_imgs, name='flat_gray_val', save=True)"
   ]
  },
  {
   "cell_type": "code",
   "execution_count": 51,
   "metadata": {
    "hidden": true
   },
   "outputs": [],
   "source": [
    "flat_gray_train = load_feature('cache/flat_gray_train.pkl')\n",
    "flat_gray_val = load_feature('cache/flat_gray_val.pkl')"
   ]
  },
  {
   "cell_type": "code",
   "execution_count": 52,
   "metadata": {
    "hidden": true
   },
   "outputs": [
    {
     "data": {
      "text/plain": [
       "((17636, 1024), (4410, 1024))"
      ]
     },
     "execution_count": 52,
     "metadata": {},
     "output_type": "execute_result"
    }
   ],
   "source": [
    "flat_gray_train.shape, flat_gray_val.shape"
   ]
  },
  {
   "cell_type": "markdown",
   "metadata": {
    "heading_collapsed": true,
    "hidden": true
   },
   "source": [
    "#### Color Histogram:"
   ]
  },
  {
   "cell_type": "code",
   "execution_count": 53,
   "metadata": {
    "hidden": true
   },
   "outputs": [
    {
     "name": "stdout",
     "output_type": "stream",
     "text": [
      "Feature saved with name cache/hist_train.pkl\n",
      "Feature saved with name cache/hist_val.pkl\n"
     ]
    }
   ],
   "source": [
    "hist_train = get_color_hist(train_imgs, name='hist_train', save=True)\n",
    "hist_val = get_color_hist(val_imgs, name='hist_val', save=True)"
   ]
  },
  {
   "cell_type": "code",
   "execution_count": 54,
   "metadata": {
    "hidden": true
   },
   "outputs": [],
   "source": [
    "hist_train = load_feature('cache/hist_train.pkl')\n",
    "hist_val = load_feature('cache/hist_val.pkl')"
   ]
  },
  {
   "cell_type": "code",
   "execution_count": 55,
   "metadata": {
    "hidden": true
   },
   "outputs": [
    {
     "data": {
      "text/plain": [
       "((17636, 512), (4410, 512))"
      ]
     },
     "execution_count": 55,
     "metadata": {},
     "output_type": "execute_result"
    }
   ],
   "source": [
    "hist_train.shape, hist_val.shape"
   ]
  },
  {
   "cell_type": "markdown",
   "metadata": {
    "heading_collapsed": true,
    "hidden": true
   },
   "source": [
    "### Reduce Features by PCA:"
   ]
  },
  {
   "cell_type": "markdown",
   "metadata": {
    "heading_collapsed": true,
    "hidden": true
   },
   "source": [
    "#### HOG Features:"
   ]
  },
  {
   "cell_type": "code",
   "execution_count": 56,
   "metadata": {
    "hidden": true
   },
   "outputs": [],
   "source": [
    "# norm_hog_train, norm_hog_val = norm_features_minmax(hog_train, hog_val)\n",
    "norm_hog_train, norm_hog_val = norm_features_zscore(hog_train, hog_val)"
   ]
  },
  {
   "cell_type": "code",
   "execution_count": 57,
   "metadata": {
    "colab": {
     "base_uri": "https://localhost:8080/",
     "height": 71
    },
    "colab_type": "code",
    "hidden": true,
    "id": "9kmT_2iDfO9e",
    "outputId": "2280667a-c1a0-4261-a85e-665bcf18b77c"
   },
   "outputs": [],
   "source": [
    "pca = PCA(n_components=10)\n",
    "pca_hog_train = pca.fit_transform(norm_hog_train)\n",
    "pca_hog_val = pca.transform(norm_hog_val)"
   ]
  },
  {
   "cell_type": "code",
   "execution_count": 58,
   "metadata": {
    "hidden": true
   },
   "outputs": [],
   "source": [
    "np.save('cache/pca_hog_train.npy', pca_hog_train)\n",
    "np.save('cache/pca_hog_val.npy', pca_hog_val)"
   ]
  },
  {
   "cell_type": "code",
   "execution_count": 59,
   "metadata": {
    "hidden": true
   },
   "outputs": [],
   "source": [
    "pca_hog_train = np.load('cache/pca_hog_train.npy')\n",
    "pca_hog_val = np.load('cache/pca_hog_val.npy')"
   ]
  },
  {
   "cell_type": "code",
   "execution_count": 60,
   "metadata": {
    "hidden": true
   },
   "outputs": [
    {
     "data": {
      "text/plain": [
       "((17636, 10), (4410, 10))"
      ]
     },
     "execution_count": 60,
     "metadata": {},
     "output_type": "execute_result"
    }
   ],
   "source": [
    "pca_hog_train.shape, pca_hog_val.shape"
   ]
  },
  {
   "cell_type": "markdown",
   "metadata": {
    "heading_collapsed": true,
    "hidden": true
   },
   "source": [
    "#### LBP Features:"
   ]
  },
  {
   "cell_type": "code",
   "execution_count": 61,
   "metadata": {
    "hidden": true
   },
   "outputs": [],
   "source": [
    "# norm_lbp_train, norm_lbp_val = norm_features_minmax(lbp_train, lbp_val)\n",
    "norm_lbp_train, norm_lbp_val = norm_features_zscore(lbp_train, lbp_val)"
   ]
  },
  {
   "cell_type": "code",
   "execution_count": 62,
   "metadata": {
    "colab": {
     "base_uri": "https://localhost:8080/",
     "height": 71
    },
    "colab_type": "code",
    "hidden": true,
    "id": "9kmT_2iDfO9e",
    "outputId": "2280667a-c1a0-4261-a85e-665bcf18b77c"
   },
   "outputs": [],
   "source": [
    "pca = PCA(n_components=10)\n",
    "pca_lbp_train = pca.fit_transform(norm_lbp_train)\n",
    "pca_lbp_val = pca.transform(norm_lbp_val)"
   ]
  },
  {
   "cell_type": "code",
   "execution_count": 63,
   "metadata": {
    "hidden": true
   },
   "outputs": [],
   "source": [
    "np.save('cache/pca_lbp_train.npy', pca_lbp_train)\n",
    "np.save('cache/pca_lbp_val.npy', pca_lbp_val)"
   ]
  },
  {
   "cell_type": "code",
   "execution_count": 64,
   "metadata": {
    "hidden": true
   },
   "outputs": [],
   "source": [
    "pca_lbp_train = np.load('cache/pca_lbp_train.npy')\n",
    "pca_lbp_val = np.load('cache/pca_lbp_val.npy')"
   ]
  },
  {
   "cell_type": "code",
   "execution_count": 65,
   "metadata": {
    "hidden": true
   },
   "outputs": [
    {
     "data": {
      "text/plain": [
       "((17636, 10), (4410, 10))"
      ]
     },
     "execution_count": 65,
     "metadata": {},
     "output_type": "execute_result"
    }
   ],
   "source": [
    "pca_lbp_train.shape, pca_lbp_val.shape"
   ]
  },
  {
   "cell_type": "markdown",
   "metadata": {
    "heading_collapsed": true,
    "hidden": true
   },
   "source": [
    "#### KAZE Features:"
   ]
  },
  {
   "cell_type": "code",
   "execution_count": 66,
   "metadata": {
    "hidden": true
   },
   "outputs": [],
   "source": [
    "# norm_kaze_train, norm_kaze_val = norm_features_minmax(kaze_train, kaze_val)\n",
    "norm_kaze_train, norm_kaze_val = norm_features_zscore(kaze_train, kaze_val)"
   ]
  },
  {
   "cell_type": "code",
   "execution_count": 67,
   "metadata": {
    "colab": {
     "base_uri": "https://localhost:8080/",
     "height": 71
    },
    "colab_type": "code",
    "hidden": true,
    "id": "9kmT_2iDfO9e",
    "outputId": "2280667a-c1a0-4261-a85e-665bcf18b77c"
   },
   "outputs": [],
   "source": [
    "pca = PCA(n_components=10)\n",
    "pca_kaze_train = pca.fit_transform(norm_kaze_train)\n",
    "pca_kaze_val = pca.transform(norm_kaze_val)"
   ]
  },
  {
   "cell_type": "code",
   "execution_count": 68,
   "metadata": {
    "hidden": true
   },
   "outputs": [],
   "source": [
    "np.save('cache/pca_kaze_train.npy', pca_kaze_train)\n",
    "np.save('cache/pca_kaze_val.npy', pca_kaze_val)"
   ]
  },
  {
   "cell_type": "code",
   "execution_count": 69,
   "metadata": {
    "hidden": true
   },
   "outputs": [],
   "source": [
    "pca_kaze_train = np.load('cache/pca_kaze_train.npy')\n",
    "pca_kaze_val = np.load('cache/pca_kaze_val.npy')"
   ]
  },
  {
   "cell_type": "code",
   "execution_count": 70,
   "metadata": {
    "hidden": true
   },
   "outputs": [
    {
     "data": {
      "text/plain": [
       "((17636, 10), (4410, 10))"
      ]
     },
     "execution_count": 70,
     "metadata": {},
     "output_type": "execute_result"
    }
   ],
   "source": [
    "pca_kaze_train.shape, pca_kaze_val.shape"
   ]
  },
  {
   "cell_type": "markdown",
   "metadata": {
    "heading_collapsed": true,
    "hidden": true
   },
   "source": [
    "#### SIFT Features:"
   ]
  },
  {
   "cell_type": "code",
   "execution_count": 71,
   "metadata": {
    "hidden": true
   },
   "outputs": [],
   "source": [
    "# norm_sift_train, norm_sift_val = norm_features_minmax(sift_train, sift_val)\n",
    "norm_sift_train, norm_sift_val = norm_features_zscore(sift_train, sift_val)"
   ]
  },
  {
   "cell_type": "code",
   "execution_count": 72,
   "metadata": {
    "hidden": true
   },
   "outputs": [],
   "source": [
    "pca = PCA(n_components=5)\n",
    "pca_sift_train = pca.fit_transform(norm_sift_train)\n",
    "pca_sift_val = pca.transform(norm_sift_val)"
   ]
  },
  {
   "cell_type": "code",
   "execution_count": 73,
   "metadata": {
    "hidden": true
   },
   "outputs": [],
   "source": [
    "np.save('cache/pca_sift_train.npy', pca_sift_train)\n",
    "np.save('cache/pca_sift_val.npy', pca_sift_val)"
   ]
  },
  {
   "cell_type": "code",
   "execution_count": 74,
   "metadata": {
    "hidden": true
   },
   "outputs": [],
   "source": [
    "pca_sift_train = np.load('cache/pca_sift_train.npy')\n",
    "pca_sift_val = np.load('cache/pca_sift_val.npy')"
   ]
  },
  {
   "cell_type": "code",
   "execution_count": 75,
   "metadata": {
    "hidden": true
   },
   "outputs": [
    {
     "data": {
      "text/plain": [
       "((17636, 5), (4410, 5))"
      ]
     },
     "execution_count": 75,
     "metadata": {},
     "output_type": "execute_result"
    }
   ],
   "source": [
    "pca_sift_train.shape, pca_sift_val.shape"
   ]
  },
  {
   "cell_type": "markdown",
   "metadata": {
    "heading_collapsed": true,
    "hidden": true
   },
   "source": [
    "#### SURF Features:"
   ]
  },
  {
   "cell_type": "code",
   "execution_count": 76,
   "metadata": {
    "hidden": true
   },
   "outputs": [],
   "source": [
    "# norm_surf_train, norm_surf_val = norm_features_minmax(surf_train, surf_val)\n",
    "norm_surf_train, norm_surf_val = norm_features_zscore(surf_train, surf_val)"
   ]
  },
  {
   "cell_type": "code",
   "execution_count": 77,
   "metadata": {
    "hidden": true
   },
   "outputs": [],
   "source": [
    "pca = PCA(n_components=5)\n",
    "pca_surf_train = pca.fit_transform(norm_surf_train)\n",
    "pca_surf_val = pca.transform(norm_surf_val)"
   ]
  },
  {
   "cell_type": "code",
   "execution_count": 79,
   "metadata": {
    "hidden": true
   },
   "outputs": [],
   "source": [
    "np.save('cache/pca_surf_train.npy', pca_surf_train)\n",
    "np.save('cache/pca_surf_val.npy', pca_surf_val)"
   ]
  },
  {
   "cell_type": "code",
   "execution_count": 80,
   "metadata": {
    "hidden": true
   },
   "outputs": [],
   "source": [
    "pca_surf_train = np.load('cache/pca_surf_train.npy')\n",
    "pca_surf_val = np.load('cache/pca_surf_val.npy')"
   ]
  },
  {
   "cell_type": "code",
   "execution_count": 81,
   "metadata": {
    "hidden": true
   },
   "outputs": [
    {
     "data": {
      "text/plain": [
       "((17636, 5), (4410, 5))"
      ]
     },
     "execution_count": 81,
     "metadata": {},
     "output_type": "execute_result"
    }
   ],
   "source": [
    "pca_surf_train.shape, pca_surf_val.shape"
   ]
  },
  {
   "cell_type": "markdown",
   "metadata": {
    "heading_collapsed": true,
    "hidden": true
   },
   "source": [
    "#### Flattened Image"
   ]
  },
  {
   "cell_type": "markdown",
   "metadata": {
    "heading_collapsed": true,
    "hidden": true
   },
   "source": [
    "##### RGB:"
   ]
  },
  {
   "cell_type": "code",
   "execution_count": 82,
   "metadata": {
    "hidden": true
   },
   "outputs": [
    {
     "name": "stderr",
     "output_type": "stream",
     "text": [
      "/home/vrutti/.conda/envs/temp/lib/python3.6/site-packages/sklearn/utils/validation.py:595: DataConversionWarning: Data with input dtype uint8 was converted to float64 by StandardScaler.\n",
      "  warnings.warn(msg, DataConversionWarning)\n",
      "/home/vrutti/.conda/envs/temp/lib/python3.6/site-packages/sklearn/utils/validation.py:595: DataConversionWarning: Data with input dtype uint8 was converted to float64 by StandardScaler.\n",
      "  warnings.warn(msg, DataConversionWarning)\n",
      "/home/vrutti/.conda/envs/temp/lib/python3.6/site-packages/sklearn/utils/validation.py:595: DataConversionWarning: Data with input dtype uint8 was converted to float64 by StandardScaler.\n",
      "  warnings.warn(msg, DataConversionWarning)\n"
     ]
    }
   ],
   "source": [
    "# norm_flat_rgb_train, norm_flat_rgb_val = norm_features_minmax(flat_rgb_train, flat_rgb_val)\n",
    "norm_flat_rgb_train, norm_flat_rgb_val = norm_features_zscore(flat_rgb_train, flat_rgb_val)"
   ]
  },
  {
   "cell_type": "code",
   "execution_count": 83,
   "metadata": {
    "hidden": true
   },
   "outputs": [],
   "source": [
    "pca = PCA(n_components=10)\n",
    "pca_flat_rgb_train = pca.fit_transform(norm_flat_rgb_train)\n",
    "pca_flat_rgb_val = pca.transform(norm_flat_rgb_val)"
   ]
  },
  {
   "cell_type": "code",
   "execution_count": 85,
   "metadata": {
    "hidden": true
   },
   "outputs": [],
   "source": [
    "np.save('cache/pca_flat_rgb_train.npy', pca_flat_rgb_train)\n",
    "np.save('cache/pca_flat_rgb_val.npy', pca_flat_rgb_val)"
   ]
  },
  {
   "cell_type": "code",
   "execution_count": 86,
   "metadata": {
    "hidden": true
   },
   "outputs": [],
   "source": [
    "pca_flat_rgb_train = np.load('cache/pca_flat_rgb_train.npy')\n",
    "pca_flat_rgb_val = np.load('cache/pca_flat_rgb_val.npy')"
   ]
  },
  {
   "cell_type": "code",
   "execution_count": 87,
   "metadata": {
    "hidden": true
   },
   "outputs": [
    {
     "data": {
      "text/plain": [
       "((17636, 10), (4410, 10))"
      ]
     },
     "execution_count": 87,
     "metadata": {},
     "output_type": "execute_result"
    }
   ],
   "source": [
    "pca_flat_rgb_train.shape, pca_flat_rgb_val.shape"
   ]
  },
  {
   "cell_type": "markdown",
   "metadata": {
    "heading_collapsed": true,
    "hidden": true
   },
   "source": [
    "##### GRAY:"
   ]
  },
  {
   "cell_type": "code",
   "execution_count": 88,
   "metadata": {
    "hidden": true
   },
   "outputs": [
    {
     "name": "stderr",
     "output_type": "stream",
     "text": [
      "/home/vrutti/.conda/envs/temp/lib/python3.6/site-packages/sklearn/utils/validation.py:595: DataConversionWarning: Data with input dtype uint8 was converted to float64 by StandardScaler.\n",
      "  warnings.warn(msg, DataConversionWarning)\n",
      "/home/vrutti/.conda/envs/temp/lib/python3.6/site-packages/sklearn/utils/validation.py:595: DataConversionWarning: Data with input dtype uint8 was converted to float64 by StandardScaler.\n",
      "  warnings.warn(msg, DataConversionWarning)\n",
      "/home/vrutti/.conda/envs/temp/lib/python3.6/site-packages/sklearn/utils/validation.py:595: DataConversionWarning: Data with input dtype uint8 was converted to float64 by StandardScaler.\n",
      "  warnings.warn(msg, DataConversionWarning)\n"
     ]
    }
   ],
   "source": [
    "# norm_flat_gray_train, norm_flat_gray_val = norm_features_minmax(flat_gray_train, flat_gray_val)\n",
    "norm_flat_gray_train, norm_flat_gray_val = norm_features_zscore(flat_gray_train, flat_gray_val)"
   ]
  },
  {
   "cell_type": "code",
   "execution_count": 89,
   "metadata": {
    "hidden": true
   },
   "outputs": [],
   "source": [
    "pca = PCA(n_components=6)\n",
    "pca_flat_gray_train = pca.fit_transform(norm_flat_gray_train)\n",
    "pca_flat_gray_val = pca.transform(norm_flat_gray_val)"
   ]
  },
  {
   "cell_type": "code",
   "execution_count": 91,
   "metadata": {
    "hidden": true
   },
   "outputs": [],
   "source": [
    "np.save('cache/pca_flat_gray_train.npy', pca_flat_gray_train)\n",
    "np.save('cache/pca_flat_gray_val.npy', pca_flat_gray_val)"
   ]
  },
  {
   "cell_type": "code",
   "execution_count": 92,
   "metadata": {
    "hidden": true
   },
   "outputs": [],
   "source": [
    "pca_flat_gray_train = np.load('cache/pca_flat_gray_train.npy')\n",
    "pca_flat_gray_val = np.load('cache/pca_flat_gray_val.npy')"
   ]
  },
  {
   "cell_type": "code",
   "execution_count": 93,
   "metadata": {
    "hidden": true
   },
   "outputs": [
    {
     "data": {
      "text/plain": [
       "((17636, 6), (4410, 6))"
      ]
     },
     "execution_count": 93,
     "metadata": {},
     "output_type": "execute_result"
    }
   ],
   "source": [
    "pca_flat_gray_train.shape, pca_flat_gray_val.shape"
   ]
  },
  {
   "cell_type": "markdown",
   "metadata": {
    "heading_collapsed": true,
    "hidden": true
   },
   "source": [
    "#### Color Histogram:"
   ]
  },
  {
   "cell_type": "code",
   "execution_count": 94,
   "metadata": {
    "hidden": true
   },
   "outputs": [],
   "source": [
    "# norm_hist_train, norm_hist_val = norm_features_minmax(hist_train, hist_val)\n",
    "norm_hist_train, norm_hist_val = norm_features_zscore(hist_train, hist_val)"
   ]
  },
  {
   "cell_type": "code",
   "execution_count": 95,
   "metadata": {
    "hidden": true
   },
   "outputs": [],
   "source": [
    "pca = PCA(n_components=10)\n",
    "pca_hist_train = pca.fit_transform(norm_hist_train)\n",
    "pca_hist_val = pca.transform(norm_hist_val)"
   ]
  },
  {
   "cell_type": "code",
   "execution_count": 97,
   "metadata": {
    "hidden": true
   },
   "outputs": [],
   "source": [
    "np.save('cache/pca_hist_train.npy', pca_hist_train)\n",
    "np.save('cache/pca_hist_val.npy', pca_hist_val)"
   ]
  },
  {
   "cell_type": "code",
   "execution_count": 98,
   "metadata": {
    "hidden": true
   },
   "outputs": [],
   "source": [
    "pca_hist_train = np.load('cache/pca_hist_train.npy')\n",
    "pca_hist_val = np.load('cache/pca_hist_val.npy')"
   ]
  },
  {
   "cell_type": "code",
   "execution_count": 99,
   "metadata": {
    "hidden": true
   },
   "outputs": [
    {
     "data": {
      "text/plain": [
       "((17636, 10), (4410, 10))"
      ]
     },
     "execution_count": 99,
     "metadata": {},
     "output_type": "execute_result"
    }
   ],
   "source": [
    "pca_hist_train.shape, pca_hist_val.shape"
   ]
  },
  {
   "cell_type": "markdown",
   "metadata": {
    "heading_collapsed": true,
    "hidden": true
   },
   "source": [
    "### Feature PCA variance comparison:"
   ]
  },
  {
   "cell_type": "code",
   "execution_count": 220,
   "metadata": {
    "hidden": true
   },
   "outputs": [
    {
     "data": {
      "text/plain": [
       "8"
      ]
     },
     "execution_count": 220,
     "metadata": {},
     "output_type": "execute_result"
    }
   ],
   "source": [
    "pca_array = []\n",
    "pca_array.append(pca_hog_train)\n",
    "pca_array.append(pca_lbp_train)\n",
    "pca_array.append(pca_sift_train)\n",
    "pca_array.append(pca_surf_train)\n",
    "pca_array.append(pca_kaze_train)\n",
    "pca_array.append(pca_hist_train)\n",
    "pca_array.append(pca_flat_gray_train)\n",
    "pca_array.append(pca_flat_rgb_train)\n",
    "len(pca_array)"
   ]
  },
  {
   "cell_type": "code",
   "execution_count": 221,
   "metadata": {
    "hidden": true,
    "scrolled": true
   },
   "outputs": [
    {
     "data": {
      "image/png": "[encoded data removed]",
      "text/plain": [
       "<Figure size 1080x1440 with 8 Axes>"
      ]
     },
     "metadata": {
      "needs_background": "light"
     },
     "output_type": "display_data"
    }
   ],
   "source": [
    "pca_projection(pca_array, ['HOG', 'LBP', 'SIFT', 'SURF', 'KAZE', 'Color Histogram', 'Flatten GRAY', 'Flatten RGB'])"
   ]
  },
  {
   "cell_type": "markdown",
   "metadata": {
    "heading_collapsed": true,
    "hidden": true
   },
   "source": [
    "### Reduce Features by LDA:"
   ]
  },
  {
   "cell_type": "markdown",
   "metadata": {
    "heading_collapsed": true,
    "hidden": true
   },
   "source": [
    "#### HOG Features:"
   ]
  },
  {
   "cell_type": "code",
   "execution_count": 100,
   "metadata": {
    "colab": {
     "base_uri": "https://localhost:8080/",
     "height": 71
    },
    "colab_type": "code",
    "hidden": true,
    "id": "9kmT_2iDfO9e",
    "outputId": "2280667a-c1a0-4261-a85e-665bcf18b77c"
   },
   "outputs": [],
   "source": [
    "lda = LDA()\n",
    "lda_hog_train = lda.fit_transform(norm_hog_train, train_y)\n",
    "lda_hog_val = lda.transform(norm_hog_val)"
   ]
  },
  {
   "cell_type": "code",
   "execution_count": 101,
   "metadata": {
    "hidden": true
   },
   "outputs": [
    {
     "data": {
      "text/plain": [
       "((17636, 1), (4410, 1))"
      ]
     },
     "execution_count": 101,
     "metadata": {},
     "output_type": "execute_result"
    }
   ],
   "source": [
    "lda_hog_train.shape, lda_hog_val.shape"
   ]
  },
  {
   "cell_type": "code",
   "execution_count": 102,
   "metadata": {
    "hidden": true
   },
   "outputs": [],
   "source": [
    "np.save('cache/lda_hog_train.npy', lda_hog_train)\n",
    "np.save('cache/lda_hog_val.npy', lda_hog_val)"
   ]
  },
  {
   "cell_type": "code",
   "execution_count": 103,
   "metadata": {
    "hidden": true
   },
   "outputs": [],
   "source": [
    "lda_hog_train = np.load('cache/lda_hog_train.npy')\n",
    "lda_hog_val = np.load('cache/lda_hog_val.npy')"
   ]
  },
  {
   "cell_type": "code",
   "execution_count": 104,
   "metadata": {
    "hidden": true
   },
   "outputs": [
    {
     "data": {
      "text/plain": [
       "((17636, 1), (4410, 1))"
      ]
     },
     "execution_count": 104,
     "metadata": {},
     "output_type": "execute_result"
    }
   ],
   "source": [
    "lda_hog_train.shape, lda_hog_val.shape"
   ]
  },
  {
   "cell_type": "markdown",
   "metadata": {
    "heading_collapsed": true,
    "hidden": true
   },
   "source": [
    "#### LBP Features:"
   ]
  },
  {
   "cell_type": "code",
   "execution_count": 105,
   "metadata": {
    "colab": {
     "base_uri": "https://localhost:8080/",
     "height": 71
    },
    "colab_type": "code",
    "hidden": true,
    "id": "9kmT_2iDfO9e",
    "outputId": "2280667a-c1a0-4261-a85e-665bcf18b77c"
   },
   "outputs": [],
   "source": [
    "lda = LDA()\n",
    "lda_lbp_train = lda.fit_transform(norm_lbp_train, train_y)\n",
    "lda_lbp_val = lda.transform(norm_lbp_val)"
   ]
  },
  {
   "cell_type": "code",
   "execution_count": 107,
   "metadata": {
    "hidden": true
   },
   "outputs": [],
   "source": [
    "np.save('cache/lda_lbp_train.npy', lda_lbp_train)\n",
    "np.save('cache/lda_lbp_val.npy', lda_lbp_val)"
   ]
  },
  {
   "cell_type": "code",
   "execution_count": 108,
   "metadata": {
    "hidden": true
   },
   "outputs": [],
   "source": [
    "lda_lbp_train = np.load('cache/lda_lbp_train.npy')\n",
    "lda_lbp_val = np.load('cache/lda_lbp_val.npy')"
   ]
  },
  {
   "cell_type": "code",
   "execution_count": 109,
   "metadata": {
    "hidden": true
   },
   "outputs": [
    {
     "data": {
      "text/plain": [
       "((17636, 1), (4410, 1))"
      ]
     },
     "execution_count": 109,
     "metadata": {},
     "output_type": "execute_result"
    }
   ],
   "source": [
    "lda_lbp_train.shape, lda_lbp_val.shape"
   ]
  },
  {
   "cell_type": "markdown",
   "metadata": {
    "heading_collapsed": true,
    "hidden": true
   },
   "source": [
    "#### SIFT"
   ]
  },
  {
   "cell_type": "code",
   "execution_count": 110,
   "metadata": {
    "colab": {
     "base_uri": "https://localhost:8080/",
     "height": 71
    },
    "colab_type": "code",
    "hidden": true,
    "id": "9kmT_2iDfO9e",
    "outputId": "2280667a-c1a0-4261-a85e-665bcf18b77c"
   },
   "outputs": [
    {
     "name": "stderr",
     "output_type": "stream",
     "text": [
      "/home/vrutti/.conda/envs/temp/lib/python3.6/site-packages/sklearn/discriminant_analysis.py:388: UserWarning: Variables are collinear.\n",
      "  warnings.warn(\"Variables are collinear.\")\n"
     ]
    }
   ],
   "source": [
    "lda = LDA()\n",
    "lda_sift_train = lda.fit_transform(norm_sift_train, train_y)\n",
    "lda_sift_val = lda.transform(norm_sift_val)"
   ]
  },
  {
   "cell_type": "code",
   "execution_count": 112,
   "metadata": {
    "hidden": true
   },
   "outputs": [],
   "source": [
    "np.save('cache/lda_sift_train.npy', lda_sift_train)\n",
    "np.save('cache/lda_sift_val.npy', lda_sift_val)"
   ]
  },
  {
   "cell_type": "code",
   "execution_count": 113,
   "metadata": {
    "hidden": true
   },
   "outputs": [],
   "source": [
    "lda_sift_train = np.load('cache/lda_sift_train.npy')\n",
    "lda_sift_val = np.load('cache/lda_sift_val.npy')"
   ]
  },
  {
   "cell_type": "code",
   "execution_count": 114,
   "metadata": {
    "hidden": true
   },
   "outputs": [
    {
     "data": {
      "text/plain": [
       "((17636, 1), (4410, 1))"
      ]
     },
     "execution_count": 114,
     "metadata": {},
     "output_type": "execute_result"
    }
   ],
   "source": [
    "lda_sift_train.shape, lda_sift_val.shape"
   ]
  },
  {
   "cell_type": "markdown",
   "metadata": {
    "heading_collapsed": true,
    "hidden": true
   },
   "source": [
    "#### Color Histogram:"
   ]
  },
  {
   "cell_type": "code",
   "execution_count": 115,
   "metadata": {
    "hidden": true
   },
   "outputs": [
    {
     "name": "stderr",
     "output_type": "stream",
     "text": [
      "/home/vrutti/.conda/envs/temp/lib/python3.6/site-packages/sklearn/discriminant_analysis.py:388: UserWarning: Variables are collinear.\n",
      "  warnings.warn(\"Variables are collinear.\")\n"
     ]
    }
   ],
   "source": [
    "lda = LDA()\n",
    "lda_hist_train = lda.fit_transform(norm_hist_train, train_y)\n",
    "lda_hist_val = lda.transform(norm_hist_val)"
   ]
  },
  {
   "cell_type": "code",
   "execution_count": 116,
   "metadata": {
    "hidden": true
   },
   "outputs": [],
   "source": [
    "np.save('cache/lda_hist_train.npy', lda_hist_train)\n",
    "np.save('cache/lda_hist_val.npy', lda_hist_val)"
   ]
  },
  {
   "cell_type": "code",
   "execution_count": 117,
   "metadata": {
    "hidden": true
   },
   "outputs": [],
   "source": [
    "lda_hist_train = np.load('cache/lda_hist_train.npy')\n",
    "lda_hist_val = np.load('cache/lda_hist_val.npy')"
   ]
  },
  {
   "cell_type": "code",
   "execution_count": 118,
   "metadata": {
    "hidden": true
   },
   "outputs": [
    {
     "data": {
      "text/plain": [
       "((17636, 1), (4410, 1))"
      ]
     },
     "execution_count": 118,
     "metadata": {},
     "output_type": "execute_result"
    }
   ],
   "source": [
    "lda_hist_train.shape, lda_hist_val.shape"
   ]
  },
  {
   "cell_type": "markdown",
   "metadata": {
    "heading_collapsed": true,
    "hidden": true
   },
   "source": [
    "### Combine Features normal:"
   ]
  },
  {
   "cell_type": "code",
   "execution_count": null,
   "metadata": {
    "hidden": true
   },
   "outputs": [],
   "source": [
    "features_train = None\n",
    "features_val = None\n",
    "evs = []\n",
    "for ft, fv in zip([hog_train, hist_train, surf_train, flat_rgb_train, lbp_train, kaze_train, sift_train], \n",
    "                  [hog_val, hist_val, surf_val, flat_rgb_val, lbp_val, kaze_val, sift_val]):    \n",
    "#     scaler = preprocessing.StandardScaler()\n",
    "#     ft = scaler.fit_transform(ft)\n",
    "#     fv = scaler.transform(fv)\n",
    "#     ft = preprocessing.normalize(ft)\n",
    "#     fv = preprocessing.normalize(fv)\n",
    "    if features_train is None:\n",
    "        features_train = ft\n",
    "        features_val = fv\n",
    "    else:\n",
    "        features_train = combine_features([features_train, ft])\n",
    "        features_val = combine_features([features_val, fv])"
   ]
  },
  {
   "cell_type": "code",
   "execution_count": null,
   "metadata": {
    "hidden": true
   },
   "outputs": [],
   "source": [
    "features_train.shape, features_val.shape"
   ]
  },
  {
   "cell_type": "markdown",
   "metadata": {
    "heading_collapsed": true,
    "hidden": true
   },
   "source": [
    "### Combine Features PCA:"
   ]
  },
  {
   "cell_type": "code",
   "execution_count": 119,
   "metadata": {
    "hidden": true
   },
   "outputs": [],
   "source": [
    "features_train = None\n",
    "features_val = None\n",
    "evs = []\n",
    "for ft, fv in zip([pca_hog_train, pca_lbp_train, pca_sift_train, pca_flat_rgb_train, pca_hist_train], \n",
    "                  [pca_hog_val, pca_lbp_val, pca_sift_val, pca_flat_rgb_val, pca_hist_val]):    \n",
    "#     scaler = preprocessing.StandardScaler()\n",
    "#     ft = scaler.fit_transform(ft)\n",
    "#     fv = scaler.transform(fv)\n",
    "#     ft = preprocessing.normalize(ft)\n",
    "#     fv = preprocessing.normalize(fv)\n",
    "    if features_train is None:\n",
    "        features_train = ft\n",
    "        features_val = fv\n",
    "    else:\n",
    "        features_train = combine_features([features_train, ft])\n",
    "        features_val = combine_features([features_val, fv])"
   ]
  },
  {
   "cell_type": "code",
   "execution_count": 120,
   "metadata": {
    "hidden": true
   },
   "outputs": [
    {
     "data": {
      "text/plain": [
       "((17636, 45), (4410, 45))"
      ]
     },
     "execution_count": 120,
     "metadata": {},
     "output_type": "execute_result"
    }
   ],
   "source": [
    "features_train.shape, features_val.shape"
   ]
  },
  {
   "cell_type": "markdown",
   "metadata": {
    "heading_collapsed": true,
    "hidden": true
   },
   "source": [
    "### Combine Features LDA:"
   ]
  },
  {
   "cell_type": "code",
   "execution_count": 121,
   "metadata": {
    "hidden": true
   },
   "outputs": [],
   "source": [
    "features_train_lda = None\n",
    "features_val_lda = None\n",
    "evs = []\n",
    "for ft, fv in zip([lda_hog_train, lda_hist_train, lda_lbp_train, lda_sift_train], \n",
    "                  [lda_hog_val, lda_hist_val, lda_lbp_val, lda_sift_val]):    \n",
    "#     scaler = preprocessing.StandardScaler()\n",
    "#     ft = scaler.fit_transform(ft)\n",
    "#     fv = scaler.transform(fv)\n",
    "#     ft = preprocessing.normalize(ft)\n",
    "#     fv = preprocessing.normalize(fv)\n",
    "    if features_train_lda is None:\n",
    "        features_train_lda = ft\n",
    "        features_val_lda = fv\n",
    "    else:\n",
    "        features_train_lda = combine_features([features_train_lda, ft])\n",
    "        features_val_lda = combine_features([features_val_lda, fv])"
   ]
  },
  {
   "cell_type": "code",
   "execution_count": 123,
   "metadata": {
    "hidden": true
   },
   "outputs": [
    {
     "data": {
      "text/plain": [
       "((17636, 4), (4410, 4))"
      ]
     },
     "execution_count": 123,
     "metadata": {},
     "output_type": "execute_result"
    }
   ],
   "source": [
    "features_train_lda.shape, features_val_lda.shape"
   ]
  },
  {
   "cell_type": "markdown",
   "metadata": {
    "heading_collapsed": true,
    "hidden": true
   },
   "source": [
    "### LDA on PCA"
   ]
  },
  {
   "cell_type": "code",
   "execution_count": 162,
   "metadata": {
    "hidden": true
   },
   "outputs": [],
   "source": [
    "lda = LDA()\n",
    "lda_on_pca_train = lda.fit_transform(features_train, train_y)\n",
    "lda_on_pca_val = lda.transform(features_val)"
   ]
  },
  {
   "cell_type": "code",
   "execution_count": 163,
   "metadata": {
    "hidden": true
   },
   "outputs": [],
   "source": [
    "np.save('cache/lda_on_pca_train.npy', lda_on_pca_train)\n",
    "np.save('cache/lda_on_pca_val.npy', lda_on_pca_val)"
   ]
  },
  {
   "cell_type": "code",
   "execution_count": 164,
   "metadata": {
    "hidden": true
   },
   "outputs": [],
   "source": [
    "lda_on_pca_train = np.load('cache/lda_on_pca_train.npy')\n",
    "lda_on_pca_val = np.load('cache/lda_on_pca_val.npy')"
   ]
  },
  {
   "cell_type": "code",
   "execution_count": 165,
   "metadata": {
    "hidden": true
   },
   "outputs": [
    {
     "data": {
      "text/plain": [
       "((17636, 1), (4410, 1))"
      ]
     },
     "execution_count": 165,
     "metadata": {},
     "output_type": "execute_result"
    }
   ],
   "source": [
    "lda_on_pca_train.shape, lda_on_pca_val.shape"
   ]
  },
  {
   "cell_type": "markdown",
   "metadata": {
    "heading_collapsed": true,
    "hidden": true
   },
   "source": [
    "### Combine Features:"
   ]
  },
  {
   "cell_type": "code",
   "execution_count": 330,
   "metadata": {
    "hidden": true
   },
   "outputs": [],
   "source": [
    "features_t = pca_hist_train\n",
    "features_v = pca_hist_val"
   ]
  },
  {
   "cell_type": "code",
   "execution_count": 331,
   "metadata": {
    "hidden": true
   },
   "outputs": [
    {
     "data": {
      "text/plain": [
       "((17636, 10), (4410, 10))"
      ]
     },
     "execution_count": 331,
     "metadata": {},
     "output_type": "execute_result"
    }
   ],
   "source": [
    "features_t.shape, features_v.shape"
   ]
  },
  {
   "cell_type": "markdown",
   "metadata": {
    "hidden": true
   },
   "source": [
    "### Classification:"
   ]
  },
  {
   "cell_type": "markdown",
   "metadata": {
    "heading_collapsed": true,
    "hidden": true
   },
   "source": [
    "### PCA"
   ]
  },
  {
   "cell_type": "code",
   "execution_count": 183,
   "metadata": {
    "hidden": true
   },
   "outputs": [
    {
     "name": "stdout",
     "output_type": "stream",
     "text": [
      "Validation Accuracy in 'RF' = 0.8857142857142857\n",
      "[[1954  257]\n",
      " [ 247 1952]]\n",
      "Recall in 'RF' = 0.8837630031659882\n",
      "Precision in 'RF' = 0.8877782825988187\n",
      "F1 Score in 'RF' = 0.8857660924750681\n"
     ]
    }
   ],
   "source": [
    "model1 = train_model(features_train, train_y, model_name='RF', validation=(features_val, val_y))"
   ]
  },
  {
   "cell_type": "code",
   "execution_count": 318,
   "metadata": {
    "hidden": true
   },
   "outputs": [],
   "source": [
    "prob1 = model1.predict_proba(features_val)\n",
    "prob10 = prob1[:,0].reshape(prob1.shape[0], 1)\n",
    "prob11 = prob1[:,1].reshape(prob1.shape[0], 1)"
   ]
  },
  {
   "cell_type": "code",
   "execution_count": 184,
   "metadata": {
    "hidden": true
   },
   "outputs": [
    {
     "name": "stdout",
     "output_type": "stream",
     "text": [
      "Validation Accuracy in 'BAG' = 0.8913832199546485\n",
      "[[1981  230]\n",
      " [ 249 1950]]\n",
      "Recall in 'BAG' = 0.8959746720940751\n",
      "Precision in 'BAG' = 0.888340807174888\n",
      "F1 Score in 'BAG' = 0.8921414095924342\n"
     ]
    }
   ],
   "source": [
    "model2 = train_model(features_train, train_y, model_name='BAG', validation=(features_val, val_y))"
   ]
  },
  {
   "cell_type": "code",
   "execution_count": 308,
   "metadata": {
    "hidden": true
   },
   "outputs": [],
   "source": [
    "prob2 = model2.predict_proba(features_val)\n",
    "prob20 = prob2[:,0].reshape(prob2.shape[0], 1)\n",
    "prob21 = prob2[:,1].reshape(prob2.shape[0], 1)"
   ]
  },
  {
   "cell_type": "code",
   "execution_count": 185,
   "metadata": {
    "hidden": true
   },
   "outputs": [
    {
     "name": "stdout",
     "output_type": "stream",
     "text": [
      "Validation Accuracy in 'ADA' = 0.8748299319727891\n",
      "[[1910  301]\n",
      " [ 251 1948]]\n",
      "Recall in 'ADA' = 0.8638625056535504\n",
      "Precision in 'ADA' = 0.8838500694123091\n",
      "F1 Score in 'ADA' = 0.8737419945105215\n"
     ]
    }
   ],
   "source": [
    "model3 = train_model(features_train, train_y, model_name='ADA', validation=(features_val, val_y))"
   ]
  },
  {
   "cell_type": "code",
   "execution_count": 309,
   "metadata": {
    "hidden": true
   },
   "outputs": [],
   "source": [
    "prob3 = model3.predict_proba(features_val)\n",
    "prob30 = prob3[:,0].reshape(prob3.shape[0], 1)\n",
    "prob31 = prob3[:,1].reshape(prob3.shape[0], 1)"
   ]
  },
  {
   "cell_type": "code",
   "execution_count": 186,
   "metadata": {
    "hidden": true
   },
   "outputs": [
    {
     "name": "stdout",
     "output_type": "stream",
     "text": [
      "Validation Accuracy in 'NB' = 0.6668934240362812\n",
      "[[ 934 1277]\n",
      " [ 192 2007]]\n",
      "Recall in 'NB' = 0.4224332881049299\n",
      "Precision in 'NB' = 0.8294849023090586\n",
      "F1 Score in 'NB' = 0.5597842373389272\n"
     ]
    }
   ],
   "source": [
    "model4 = train_model(features_train, train_y, model_name='NB', validation=(features_val, val_y))"
   ]
  },
  {
   "cell_type": "code",
   "execution_count": 310,
   "metadata": {
    "hidden": true
   },
   "outputs": [],
   "source": [
    "prob4 = model4.predict_proba(features_val)\n",
    "prob40 = prob4[:,0].reshape(prob4.shape[0], 1)\n",
    "prob41 = prob4[:,1].reshape(prob4.shape[0], 1)"
   ]
  },
  {
   "cell_type": "code",
   "execution_count": 187,
   "metadata": {
    "hidden": true
   },
   "outputs": [
    {
     "name": "stdout",
     "output_type": "stream",
     "text": [
      "Validation Accuracy in 'SVM' = 0.8702947845804989\n",
      "[[1883  328]\n",
      " [ 244 1955]]\n",
      "Recall in 'SVM' = 0.8516508367254636\n",
      "Precision in 'SVM' = 0.8852844381758345\n",
      "F1 Score in 'SVM' = 0.8681420009220839\n"
     ]
    }
   ],
   "source": [
    "model5 = train_model(features_train, train_y, model_name='SVM', validation=(features_val, val_y))"
   ]
  },
  {
   "cell_type": "code",
   "execution_count": 311,
   "metadata": {
    "hidden": true
   },
   "outputs": [],
   "source": [
    "prob5 = model5.predict_proba(features_val)\n",
    "prob50 = prob5[:,0].reshape(prob5.shape[0], 1)\n",
    "prob51 = prob5[:,1].reshape(prob5.shape[0], 1)"
   ]
  },
  {
   "cell_type": "code",
   "execution_count": 188,
   "metadata": {
    "hidden": true
   },
   "outputs": [
    {
     "name": "stdout",
     "output_type": "stream",
     "text": [
      "Validation Accuracy in 'XGB' = 0.9149659863945578\n",
      "[[2003  208]\n",
      " [ 167 2032]]\n",
      "Recall in 'XGB' = 0.905924920850294\n",
      "Precision in 'XGB' = 0.9230414746543779\n",
      "F1 Score in 'XGB' = 0.9144031043140836\n"
     ]
    }
   ],
   "source": [
    "model6 = train_model(np.array(features_train), train_y, model_name='XGB', validation=(features_val, val_y))"
   ]
  },
  {
   "cell_type": "code",
   "execution_count": 312,
   "metadata": {
    "hidden": true
   },
   "outputs": [],
   "source": [
    "prob6 = model6.predict_proba(features_val)\n",
    "prob60 = prob6[:,0].reshape(prob6.shape[0], 1)\n",
    "prob61 = prob6[:,1].reshape(prob6.shape[0], 1)"
   ]
  },
  {
   "cell_type": "code",
   "execution_count": 189,
   "metadata": {
    "hidden": true
   },
   "outputs": [
    {
     "name": "stdout",
     "output_type": "stream",
     "text": [
      "Validation Accuracy in 'KNN' = 0.7764172335600907\n",
      "[[1598  613]\n",
      " [ 373 1826]]\n",
      "Recall in 'KNN' = 0.7227498869289914\n",
      "Precision in 'KNN' = 0.8107559614408929\n",
      "F1 Score in 'KNN' = 0.7642276422764227\n"
     ]
    }
   ],
   "source": [
    "model7 = train_model(np.array(features_train), train_y, model_name='KNN', validation=(features_val, val_y))"
   ]
  },
  {
   "cell_type": "code",
   "execution_count": 313,
   "metadata": {
    "hidden": true
   },
   "outputs": [],
   "source": [
    "prob7 = model7.predict_proba(features_val)\n",
    "prob70 = prob7[:,0].reshape(prob7.shape[0], 1)\n",
    "prob71 = prob7[:,1].reshape(prob7.shape[0], 1)"
   ]
  },
  {
   "cell_type": "code",
   "execution_count": 322,
   "metadata": {
    "hidden": true
   },
   "outputs": [
    {
     "data": {
      "image/png": "[encoded data removed]",
      "text/plain": [
       "<Figure size 960x480 with 1 Axes>"
      ]
     },
     "metadata": {},
     "output_type": "display_data"
    }
   ],
   "source": [
    "prob = np.concatenate((prob10, prob20, prob30, prob40, prob50, prob60, prob70), axis=1)\n",
    "plot_combine_roc(val_y, prob)"
   ]
  },
  {
   "cell_type": "code",
   "execution_count": 324,
   "metadata": {
    "hidden": true
   },
   "outputs": [
    {
     "data": {
      "image/png": "[encoded data removed]",
      "text/plain": [
       "<Figure size 960x480 with 1 Axes>"
      ]
     },
     "metadata": {},
     "output_type": "display_data"
    }
   ],
   "source": [
    "prob = np.concatenate((prob11, prob21, prob31, prob41, prob51, prob61, prob71), axis=1)\n",
    "plot_combine_roc(val_y, prob)"
   ]
  },
  {
   "cell_type": "markdown",
   "metadata": {
    "heading_collapsed": true,
    "hidden": true
   },
   "source": [
    "### LDA"
   ]
  },
  {
   "cell_type": "code",
   "execution_count": 174,
   "metadata": {
    "hidden": true
   },
   "outputs": [
    {
     "name": "stdout",
     "output_type": "stream",
     "text": [
      "Validation Accuracy in 'RF' = 0.8648526077097506\n",
      "[[1903  308]\n",
      " [ 288 1911]]\n",
      "Recall in 'RF' = 0.8606965174129353\n",
      "Precision in 'RF' = 0.8685531720675491\n",
      "F1 Score in 'RF' = 0.8646069968196274\n"
     ]
    }
   ],
   "source": [
    "model8 = train_model(features_train_lda, train_y, model_name='RF', validation=(features_val_lda, val_y))"
   ]
  },
  {
   "cell_type": "code",
   "execution_count": 287,
   "metadata": {
    "hidden": true
   },
   "outputs": [],
   "source": [
    "prob8 = model8.predict_proba(features_val_lda)\n",
    "prob80 = prob8[:,0].reshape(prob8.shape[0], 1)\n",
    "prob81 = prob8[:,1].reshape(prob8.shape[0], 1)"
   ]
  },
  {
   "cell_type": "code",
   "execution_count": 175,
   "metadata": {
    "hidden": true
   },
   "outputs": [
    {
     "name": "stdout",
     "output_type": "stream",
     "text": [
      "Validation Accuracy in 'BAG' = 0.8546485260770975\n",
      "[[1877  334]\n",
      " [ 307 1892]]\n",
      "Recall in 'BAG' = 0.8489371325192221\n",
      "Precision in 'BAG' = 0.8594322344322345\n",
      "F1 Score in 'BAG' = 0.8541524459613197\n"
     ]
    }
   ],
   "source": [
    "model9 = train_model(features_train_lda, train_y, model_name='BAG', validation=(features_val_lda, val_y))"
   ]
  },
  {
   "cell_type": "code",
   "execution_count": 288,
   "metadata": {
    "hidden": true
   },
   "outputs": [],
   "source": [
    "prob9 = model9.predict_proba(features_val_lda)\n",
    "prob90 = prob9[:,0].reshape(prob9.shape[0], 1)\n",
    "prob91 = prob9[:,1].reshape(prob9.shape[0], 1)"
   ]
  },
  {
   "cell_type": "code",
   "execution_count": 176,
   "metadata": {
    "hidden": true
   },
   "outputs": [
    {
     "name": "stdout",
     "output_type": "stream",
     "text": [
      "Validation Accuracy in 'ADA' = 0.8650793650793651\n",
      "[[1887  324]\n",
      " [ 271 1928]]\n",
      "Recall in 'ADA' = 0.8534599728629579\n",
      "Precision in 'ADA' = 0.8744207599629287\n",
      "F1 Score in 'ADA' = 0.8638132295719845\n"
     ]
    }
   ],
   "source": [
    "model10 = train_model(features_train_lda, train_y, model_name='ADA', validation=(features_val_lda, val_y))"
   ]
  },
  {
   "cell_type": "code",
   "execution_count": 289,
   "metadata": {
    "hidden": true
   },
   "outputs": [],
   "source": [
    "prob10 = model10.predict_proba(features_val_lda)\n",
    "prob100 = prob10[:,0].reshape(prob10.shape[0], 1)\n",
    "prob101 = prob10[:,1].reshape(prob10.shape[0], 1)"
   ]
  },
  {
   "cell_type": "code",
   "execution_count": 177,
   "metadata": {
    "hidden": true
   },
   "outputs": [
    {
     "name": "stdout",
     "output_type": "stream",
     "text": [
      "Validation Accuracy in 'NB' = 0.8514739229024944\n",
      "[[1810  401]\n",
      " [ 254 1945]]\n",
      "Recall in 'NB' = 0.8186341022161918\n",
      "Precision in 'NB' = 0.876937984496124\n",
      "F1 Score in 'NB' = 0.8467836257309942\n"
     ]
    }
   ],
   "source": [
    "model11 = train_model(features_train_lda, train_y, model_name='NB', validation=(features_val_lda, val_y))"
   ]
  },
  {
   "cell_type": "code",
   "execution_count": 290,
   "metadata": {
    "hidden": true
   },
   "outputs": [],
   "source": [
    "prob11 = model11.predict_proba(features_val_lda)\n",
    "prob110 = prob11[:,0].reshape(prob11.shape[0], 1)\n",
    "prob111 = prob11[:,1].reshape(prob11.shape[0], 1)"
   ]
  },
  {
   "cell_type": "code",
   "execution_count": 178,
   "metadata": {
    "hidden": true
   },
   "outputs": [
    {
     "name": "stdout",
     "output_type": "stream",
     "text": [
      "Validation Accuracy in 'SVM' = 0.8682539682539683\n",
      "[[1941  270]\n",
      " [ 311 1888]]\n",
      "Recall in 'SVM' = 0.8778833107191316\n",
      "Precision in 'SVM' = 0.8619005328596803\n",
      "F1 Score in 'SVM' = 0.8698185077302263\n"
     ]
    }
   ],
   "source": [
    "model12 = train_model(features_train_lda, train_y, model_name='SVM', validation=(features_val_lda, val_y))"
   ]
  },
  {
   "cell_type": "code",
   "execution_count": 291,
   "metadata": {
    "hidden": true
   },
   "outputs": [],
   "source": [
    "prob12 = model12.predict_proba(features_val_lda)\n",
    "prob120 = prob12[:,0].reshape(prob12.shape[0], 1)\n",
    "prob121 = prob12[:,1].reshape(prob12.shape[0], 1)"
   ]
  },
  {
   "cell_type": "code",
   "execution_count": 179,
   "metadata": {
    "hidden": true
   },
   "outputs": [
    {
     "name": "stdout",
     "output_type": "stream",
     "text": [
      "Validation Accuracy in 'XGB' = 0.8607709750566893\n",
      "[[1883  328]\n",
      " [ 286 1913]]\n",
      "Recall in 'XGB' = 0.8516508367254636\n",
      "Precision in 'XGB' = 0.8681420009220839\n",
      "F1 Score in 'XGB' = 0.8598173515981735\n"
     ]
    }
   ],
   "source": [
    "model13 = train_model(features_train_lda, train_y, model_name='XGB', validation=(features_val_lda, val_y))"
   ]
  },
  {
   "cell_type": "code",
   "execution_count": 292,
   "metadata": {
    "hidden": true
   },
   "outputs": [],
   "source": [
    "prob13 = model13.predict_proba(features_val_lda)\n",
    "prob130 = prob13[:,0].reshape(prob13.shape[0], 1)\n",
    "prob131 = prob13[:,1].reshape(prob13.shape[0], 1)"
   ]
  },
  {
   "cell_type": "code",
   "execution_count": 180,
   "metadata": {
    "hidden": true
   },
   "outputs": [
    {
     "name": "stdout",
     "output_type": "stream",
     "text": [
      "Validation Accuracy in 'KNN' = 0.8507936507936508\n",
      "[[1884  327]\n",
      " [ 331 1868]]\n",
      "Recall in 'KNN' = 0.8521031207598372\n",
      "Precision in 'KNN' = 0.8505643340857788\n",
      "F1 Score in 'KNN' = 0.851333032083145\n"
     ]
    }
   ],
   "source": [
    "model14 = train_model(features_train_lda, train_y, model_name='KNN', validation=(features_val_lda, val_y))"
   ]
  },
  {
   "cell_type": "code",
   "execution_count": 293,
   "metadata": {
    "hidden": true
   },
   "outputs": [],
   "source": [
    "prob14 = model14.predict_proba(features_val_lda)\n",
    "prob140 = prob14[:,0].reshape(prob14.shape[0], 1)\n",
    "prob141 = prob14[:,1].reshape(prob14.shape[0], 1)"
   ]
  },
  {
   "cell_type": "code",
   "execution_count": 328,
   "metadata": {
    "hidden": true
   },
   "outputs": [
    {
     "data": {
      "image/png": "[encoded data removed]",
      "text/plain": [
       "<Figure size 960x480 with 1 Axes>"
      ]
     },
     "metadata": {},
     "output_type": "display_data"
    }
   ],
   "source": [
    "prob = np.concatenate((prob80, prob90, prob100, prob110, prob120, prob130, prob140), axis=1)\n",
    "plot_combine_roc(val_y, prob)"
   ]
  },
  {
   "cell_type": "code",
   "execution_count": 326,
   "metadata": {
    "hidden": true
   },
   "outputs": [
    {
     "data": {
      "image/png": "[encoded data removed]",
      "text/plain": [
       "<Figure size 960x480 with 1 Axes>"
      ]
     },
     "metadata": {},
     "output_type": "display_data"
    }
   ],
   "source": [
    "prob = np.concatenate((prob81, prob91, prob101, prob111, prob121, prob131, prob141), axis=1)\n",
    "plot_combine_roc(val_y, prob)"
   ]
  },
  {
   "cell_type": "markdown",
   "metadata": {
    "heading_collapsed": true,
    "hidden": true
   },
   "source": [
    "### LDA on PCA"
   ]
  },
  {
   "cell_type": "code",
   "execution_count": 181,
   "metadata": {
    "hidden": true
   },
   "outputs": [
    {
     "name": "stdout",
     "output_type": "stream",
     "text": [
      "Validation Accuracy in 'RF' = 0.8360544217687075\n",
      "[[1903  308]\n",
      " [ 415 1784]]\n",
      "Recall in 'RF' = 0.8606965174129353\n",
      "Precision in 'RF' = 0.8209663503019845\n",
      "F1 Score in 'RF' = 0.8403621108412455\n"
     ]
    }
   ],
   "source": [
    "model15 = train_model(lda_on_pca_train, train_y, model_name='RF', validation=(lda_on_pca_val, val_y))"
   ]
  },
  {
   "cell_type": "code",
   "execution_count": 297,
   "metadata": {
    "hidden": true
   },
   "outputs": [],
   "source": [
    "prob15 = model15.predict_proba(lda_on_pca_val)\n",
    "prob150 = prob15[:,0].reshape(prob15.shape[0], 1)\n",
    "prob151 = prob15[:,1].reshape(prob15.shape[0], 1)"
   ]
  },
  {
   "cell_type": "code",
   "execution_count": 182,
   "metadata": {
    "hidden": true
   },
   "outputs": [
    {
     "name": "stdout",
     "output_type": "stream",
     "text": [
      "Validation Accuracy in 'BAG' = 0.7691609977324263\n",
      "[[1695  516]\n",
      " [ 502 1697]]\n",
      "Recall in 'BAG' = 0.7666214382632293\n",
      "Precision in 'BAG' = 0.7715065999089668\n",
      "F1 Score in 'BAG' = 0.7690562613430127\n"
     ]
    }
   ],
   "source": [
    "model16 = train_model(lda_on_pca_train, train_y, model_name='BAG', validation=(lda_on_pca_val, val_y))"
   ]
  },
  {
   "cell_type": "code",
   "execution_count": 298,
   "metadata": {
    "hidden": true
   },
   "outputs": [],
   "source": [
    "prob16 = model16.predict_proba(lda_on_pca_val)\n",
    "prob160 = prob16[:,0].reshape(prob16.shape[0], 1)\n",
    "prob161 = prob16[:,1].reshape(prob16.shape[0], 1)"
   ]
  },
  {
   "cell_type": "code",
   "execution_count": 169,
   "metadata": {
    "hidden": true
   },
   "outputs": [
    {
     "name": "stdout",
     "output_type": "stream",
     "text": [
      "Validation Accuracy in 'ADA' = 0.8380952380952381\n",
      "[[1917  294]\n",
      " [ 420 1779]]\n",
      "Recall in 'ADA' = 0.8670284938941656\n",
      "Precision in 'ADA' = 0.8202824133504493\n",
      "F1 Score in 'ADA' = 0.8430079155672824\n"
     ]
    }
   ],
   "source": [
    "model17 = train_model(lda_on_pca_train, train_y, model_name='ADA', validation=(lda_on_pca_val, val_y))"
   ]
  },
  {
   "cell_type": "code",
   "execution_count": 299,
   "metadata": {
    "hidden": true
   },
   "outputs": [],
   "source": [
    "prob17 = model17.predict_proba(lda_on_pca_val)\n",
    "prob170 = prob17[:,0].reshape(prob17.shape[0], 1)\n",
    "prob171 = prob17[:,1].reshape(prob17.shape[0], 1)"
   ]
  },
  {
   "cell_type": "code",
   "execution_count": 170,
   "metadata": {
    "hidden": true
   },
   "outputs": [
    {
     "name": "stdout",
     "output_type": "stream",
     "text": [
      "Validation Accuracy in 'NB' = 0.8217687074829932\n",
      "[[1675  536]\n",
      " [ 250 1949]]\n",
      "Recall in 'NB' = 0.7575757575757576\n",
      "Precision in 'NB' = 0.8701298701298701\n",
      "F1 Score in 'NB' = 0.8099613152804642\n"
     ]
    }
   ],
   "source": [
    "model18 = train_model(lda_on_pca_train, train_y, model_name='NB', validation=(lda_on_pca_val, val_y))"
   ]
  },
  {
   "cell_type": "code",
   "execution_count": 300,
   "metadata": {
    "hidden": true
   },
   "outputs": [],
   "source": [
    "prob18 = model18.predict_proba(lda_on_pca_val)\n",
    "prob180 = prob18[:,0].reshape(prob18.shape[0], 1)\n",
    "prob181 = prob18[:,1].reshape(prob18.shape[0], 1)"
   ]
  },
  {
   "cell_type": "code",
   "execution_count": 171,
   "metadata": {
    "hidden": true
   },
   "outputs": [
    {
     "name": "stdout",
     "output_type": "stream",
     "text": [
      "Validation Accuracy in 'SVM' = 0.8365079365079365\n",
      "[[1880  331]\n",
      " [ 390 1809]]\n",
      "Recall in 'SVM' = 0.8502939846223428\n",
      "Precision in 'SVM' = 0.8281938325991189\n",
      "F1 Score in 'SVM' = 0.8390984155322474\n"
     ]
    }
   ],
   "source": [
    "model19 = train_model(lda_on_pca_train, train_y, model_name='SVM', validation=(lda_on_pca_val, val_y))"
   ]
  },
  {
   "cell_type": "code",
   "execution_count": 301,
   "metadata": {
    "hidden": true
   },
   "outputs": [],
   "source": [
    "prob19 = model19.predict_proba(lda_on_pca_val)\n",
    "prob190 = prob19[:,0].reshape(prob19.shape[0], 1)\n",
    "prob191 = prob19[:,1].reshape(prob19.shape[0], 1)"
   ]
  },
  {
   "cell_type": "code",
   "execution_count": 172,
   "metadata": {
    "hidden": true
   },
   "outputs": [
    {
     "name": "stdout",
     "output_type": "stream",
     "text": [
      "Validation Accuracy in 'XGB' = 0.8383219954648526\n",
      "[[1904  307]\n",
      " [ 406 1793]]\n",
      "Recall in 'XGB' = 0.8611488014473089\n",
      "Precision in 'XGB' = 0.8242424242424242\n",
      "F1 Score in 'XGB' = 0.8422915284229152\n"
     ]
    }
   ],
   "source": [
    "model20 = train_model(lda_on_pca_train, train_y, model_name='XGB', validation=(lda_on_pca_val, val_y))"
   ]
  },
  {
   "cell_type": "code",
   "execution_count": 302,
   "metadata": {
    "hidden": true
   },
   "outputs": [],
   "source": [
    "prob20 = model20.predict_proba(lda_on_pca_val)\n",
    "prob200 = prob20[:,0].reshape(prob20.shape[0], 1)\n",
    "prob201 = prob20[:,1].reshape(prob20.shape[0], 1)"
   ]
  },
  {
   "cell_type": "code",
   "execution_count": 173,
   "metadata": {
    "hidden": true
   },
   "outputs": [
    {
     "name": "stdout",
     "output_type": "stream",
     "text": [
      "Validation Accuracy in 'KNN' = 0.7934240362811792\n",
      "[[1756  455]\n",
      " [ 456 1743]]\n",
      "Recall in 'KNN' = 0.7942107643600181\n",
      "Precision in 'KNN' = 0.7938517179023508\n",
      "F1 Score in 'KNN' = 0.7940312005426181\n"
     ]
    }
   ],
   "source": [
    "model21 = train_model(lda_on_pca_train, train_y, model_name='KNN', validation=(lda_on_pca_val, val_y))"
   ]
  },
  {
   "cell_type": "code",
   "execution_count": 303,
   "metadata": {
    "hidden": true
   },
   "outputs": [],
   "source": [
    "prob21 = model21.predict_proba(lda_on_pca_val)\n",
    "prob210 = prob21[:,0].reshape(prob21.shape[0], 1)\n",
    "prob211 = prob21[:,1].reshape(prob21.shape[0], 1)"
   ]
  },
  {
   "cell_type": "code",
   "execution_count": 330,
   "metadata": {
    "hidden": true
   },
   "outputs": [
    {
     "data": {
      "image/png": "[encoded data removed]",
      "text/plain": [
       "<Figure size 960x480 with 1 Axes>"
      ]
     },
     "metadata": {},
     "output_type": "display_data"
    }
   ],
   "source": [
    "prob = np.concatenate((prob150, prob160, prob170, prob180, prob190, prob200, prob210), axis=1)\n",
    "plot_combine_roc(val_y, prob)"
   ]
  },
  {
   "cell_type": "code",
   "execution_count": 332,
   "metadata": {
    "hidden": true
   },
   "outputs": [
    {
     "data": {
      "image/png": "[encoded data removed]",
      "text/plain": [
       "<Figure size 960x480 with 1 Axes>"
      ]
     },
     "metadata": {},
     "output_type": "display_data"
    }
   ],
   "source": [
    "prob = np.concatenate((prob151, prob161, prob171, prob181, prob191, prob201, prob211), axis=1)\n",
    "plot_combine_roc(val_y, prob)"
   ]
  },
  {
   "cell_type": "code",
   "execution_count": null,
   "metadata": {
    "hidden": true
   },
   "outputs": [],
   "source": []
  },
  {
   "cell_type": "markdown",
   "metadata": {
    "heading_collapsed": true
   },
   "source": [
    "## Testing"
   ]
  },
  {
   "cell_type": "code",
   "execution_count": 190,
   "metadata": {
    "hidden": true
   },
   "outputs": [],
   "source": [
    "hog_comp_train = combine_features([hog_train, hog_val], horizontal=False)\n",
    "lbp_comp_train = combine_features([lbp_train, lbp_val], horizontal=False)\n",
    "kaze_comp_train = combine_features([kaze_train, kaze_val], horizontal=False)\n",
    "sift_comp_train = combine_features([sift_train, sift_val], horizontal=False)\n",
    "surf_comp_train = combine_features([surf_train, surf_val], horizontal=False)\n",
    "flat_rgb_comp_train = combine_features([flat_rgb_train, flat_rgb_val], horizontal=False)\n",
    "flat_gray_comp_train = combine_features([flat_gray_train, flat_gray_val], horizontal=False)\n",
    "hist_comp_train = combine_features([hist_train, hist_val], horizontal=False)"
   ]
  },
  {
   "cell_type": "code",
   "execution_count": 191,
   "metadata": {
    "hidden": true
   },
   "outputs": [],
   "source": [
    "data_y = np.hstack([train_y, val_y])"
   ]
  },
  {
   "cell_type": "code",
   "execution_count": 192,
   "metadata": {
    "hidden": true
   },
   "outputs": [],
   "source": [
    "pcas_array = []\n",
    "\n",
    "pca = PCA(n_components=10)\n",
    "pca_hog_comp_train = pca.fit_transform(hog_comp_train)\n",
    "pcas_array.append(pca)\n",
    "\n",
    "pca = PCA(n_components=30)\n",
    "pca_lbp_comp_train = pca.fit_transform(lbp_comp_train)\n",
    "pcas_array.append(pca)\n",
    "\n",
    "pca = PCA(n_components=20)\n",
    "pca_kaze_comp_train = pca.fit_transform(kaze_comp_train)\n",
    "pcas_array.append(pca)\n",
    "\n",
    "pca = PCA(n_components=15)\n",
    "pca_sift_comp_train = pca.fit_transform(sift_comp_train)\n",
    "pcas_array.append(pca)\n",
    "\n",
    "pca = PCA(n_components=5)\n",
    "pca_surf_comp_train = pca.fit_transform(surf_comp_train)\n",
    "pcas_array.append(pca)\n",
    "\n",
    "pca = PCA(n_components=20)\n",
    "pca_flat_rgb_comp_train = pca.fit_transform(flat_rgb_comp_train)\n",
    "pcas_array.append(pca)\n",
    "\n",
    "pca = PCA(n_components=20)\n",
    "pca_flat_gray_comp_train = pca.fit_transform(flat_gray_comp_train)\n",
    "pcas_array.append(pca)\n",
    "\n",
    "pca = PCA(n_components=10)\n",
    "pca_hist_comp_train = pca.fit_transform(hist_comp_train)\n",
    "pcas_array.append(pca)"
   ]
  },
  {
   "cell_type": "code",
   "execution_count": 193,
   "metadata": {
    "hidden": true
   },
   "outputs": [],
   "source": [
    "reduced_train_features=[pca_hog_comp_train,\n",
    "                        pca_lbp_comp_train,\n",
    "                        pca_kaze_comp_train,\n",
    "                        pca_sift_comp_train,\n",
    "                        pca_surf_comp_train,\n",
    "                        pca_flat_rgb_comp_train,\n",
    "                        pca_flat_gray_comp_train,\n",
    "                        pca_hist_comp_train]"
   ]
  },
  {
   "cell_type": "code",
   "execution_count": 194,
   "metadata": {
    "colab": {
     "base_uri": "https://localhost:8080/",
     "height": 71
    },
    "colab_type": "code",
    "hidden": true,
    "id": "jXCXxmjAGEdk",
    "outputId": "097763d9-c695-4479-8c76-a6b1351cc363"
   },
   "outputs": [
    {
     "name": "stdout",
     "output_type": "stream",
     "text": [
      "Feature saved with name cache/hog_test.pkl\n",
      "Feature saved with name cache/lbp_test.pkl\n",
      "Feature saved with name cache/kaze_test.pkl\n",
      "Feature saved with name cache/sift_test.pkl\n",
      "Feature saved with name cache/surf_test.pkl\n",
      "Feature saved with name cache/flat_rgb_test.pkl\n",
      "Feature saved with name cache/flat_gray_test.pkl\n",
      "Feature saved with name cache/hist_test.pkl\n"
     ]
    }
   ],
   "source": [
    "hog_test = get_hog(test_x, name='hog_test', save=True)\n",
    "lbp_test = get_lbp(test_x, name='lbp_test', save=True)\n",
    "kaze_test = get_kaze(test_x, name='kaze_test', save=True)\n",
    "sift_test = get_sift(test_x, name='sift_test', save=True)\n",
    "surf_test = get_surf(test_x, name='surf_test', save=True)\n",
    "flat_rgb_test = get_flattened(test_x, None, name='flat_rgb_test', save=True)\n",
    "flat_gray_test = get_flattened(test_x, name='flat_gray_test', save=True)\n",
    "hist_test = get_color_hist(test_x, name='hist_test', save=True)"
   ]
  },
  {
   "cell_type": "code",
   "execution_count": 195,
   "metadata": {
    "hidden": true
   },
   "outputs": [],
   "source": [
    "test_features= [hog_test,\n",
    "                lbp_test,\n",
    "                kaze_test,\n",
    "                sift_test,\n",
    "                surf_test,\n",
    "                flat_rgb_test,\n",
    "                flat_gray_test,\n",
    "                hist_test]"
   ]
  },
  {
   "cell_type": "code",
   "execution_count": 200,
   "metadata": {
    "hidden": true
   },
   "outputs": [],
   "source": [
    "features_comp_train = None\n",
    "features_test = None\n",
    "comp_pcas = []\n",
    "\n",
    "for i, (f_train, f_test) in enumerate(zip(reduced_train_features, \n",
    "                                          test_features)):\n",
    "    if i == 6:\n",
    "        continue\n",
    "    f_test = pcas_array[i].transform(f_test)\n",
    "    \n",
    "    if features_comp_train is None:\n",
    "        features_comp_train = f_train\n",
    "        features_test = f_test\n",
    "    else:\n",
    "        features_comp_train = combine_features([features_comp_train, f_train])\n",
    "        features_test = combine_features([features_test, f_test])"
   ]
  },
  {
   "cell_type": "code",
   "execution_count": 201,
   "metadata": {
    "hidden": true
   },
   "outputs": [
    {
     "data": {
      "text/plain": [
       "((22046, 110), (5512, 110))"
      ]
     },
     "execution_count": 201,
     "metadata": {},
     "output_type": "execute_result"
    }
   ],
   "source": [
    "features_comp_train.shape, features_test.shape"
   ]
  },
  {
   "cell_type": "code",
   "execution_count": 198,
   "metadata": {
    "hidden": true
   },
   "outputs": [],
   "source": [
    "comp_model = train_model(features_comp_train, data_y, model_name='XGB')"
   ]
  },
  {
   "cell_type": "code",
   "execution_count": 202,
   "metadata": {
    "colab": {},
    "colab_type": "code",
    "hidden": true,
    "id": "eXTpn1HECr5X"
   },
   "outputs": [],
   "source": [
    "y_hat = comp_model.predict(features_test)"
   ]
  },
  {
   "cell_type": "code",
   "execution_count": 203,
   "metadata": {
    "hidden": true
   },
   "outputs": [
    {
     "name": "stdout",
     "output_type": "stream",
     "text": [
      "0.8394412191582002\n",
      "[[2322  438]\n",
      " [ 447 2305]]\n",
      "0.838569880823402 0.841304347826087 0.8399348887683126\n"
     ]
    }
   ],
   "source": [
    "acc = metrics.accuracy_score(test_y, y_hat)\n",
    "print(acc)\n",
    "cm = metrics.confusion_matrix(test_y, y_hat)\n",
    "print(cm)\n",
    "precision = cm[0][0] / (cm[0][0] + cm[1][0])\n",
    "recall = cm[0][0] / (cm[0][0] + cm[0][1])\n",
    "f1 = 2*(recall * precision) / (recall + precision)\n",
    "print(precision, recall, f1)"
   ]
  },
  {
   "cell_type": "markdown",
   "metadata": {
    "heading_collapsed": true
   },
   "source": [
    "## Randomized and gridsearch"
   ]
  },
  {
   "cell_type": "code",
   "execution_count": 154,
   "metadata": {
    "hidden": true
   },
   "outputs": [],
   "source": [
    "clf = RandomForestClassifier(n_estimators=200)\n",
    "\n",
    "param_dist = {\"max_depth\": [3, None],\n",
    "              \"class_weight\" : [\"balanced\", \"balanced_subsample\", None],\n",
    "              \"min_samples_split\": randint(2, 11),\n",
    "              \"bootstrap\": [True, False],\n",
    "              \"criterion\": [\"gini\", \"entropy\"]}\n",
    "\n",
    "random_search = RandomizedSearchCV(clf, param_distributions=param_dist, n_iter=20, cv=5)"
   ]
  },
  {
   "cell_type": "code",
   "execution_count": 155,
   "metadata": {
    "hidden": true,
    "scrolled": true
   },
   "outputs": [
    {
     "data": {
      "text/plain": [
       "RandomizedSearchCV(cv=5, error_score='raise-deprecating',\n",
       "          estimator=RandomForestClassifier(bootstrap=True, class_weight=None, criterion='gini',\n",
       "            max_depth=None, max_features='auto', max_leaf_nodes=None,\n",
       "            min_impurity_decrease=0.0, min_impurity_split=None,\n",
       "            min_samples_leaf=1, min_samples_split=2,\n",
       "            min_weight_fraction_leaf=0.0, n_estimators=200, n_jobs=None,\n",
       "            oob_score=False, random_state=None, verbose=0,\n",
       "            warm_start=False),\n",
       "          fit_params=None, iid='warn', n_iter=20, n_jobs=None,\n",
       "          param_distributions={'max_depth': [3, None], 'class_weight': ['balanced', 'balanced_subsample', None], 'min_samples_split': <scipy.stats._distn_infrastructure.rv_frozen object at 0x7f5ce6129eb8>, 'bootstrap': [True, False], 'criterion': ['gini', 'entropy']},\n",
       "          pre_dispatch='2*n_jobs', random_state=None, refit=True,\n",
       "          return_train_score='warn', scoring=None, verbose=0)"
      ]
     },
     "execution_count": 155,
     "metadata": {},
     "output_type": "execute_result"
    }
   ],
   "source": [
    "random_search.fit(features_train_lda, train_y)"
   ]
  },
  {
   "cell_type": "code",
   "execution_count": 156,
   "metadata": {
    "hidden": true
   },
   "outputs": [
    {
     "name": "stdout",
     "output_type": "stream",
     "text": [
      "dict_keys(['mean_fit_time', 'std_fit_time', 'mean_score_time', 'std_score_time', 'param_bootstrap', 'param_class_weight', 'param_criterion', 'param_max_depth', 'param_min_samples_split', 'params', 'split0_test_score', 'split1_test_score', 'split2_test_score', 'split3_test_score', 'split4_test_score', 'mean_test_score', 'std_test_score', 'rank_test_score', 'split0_train_score', 'split1_train_score', 'split2_train_score', 'split3_train_score', 'split4_train_score', 'mean_train_score', 'std_train_score'])\n"
     ]
    }
   ],
   "source": [
    "print(random_search.cv_results_.keys())"
   ]
  },
  {
   "cell_type": "code",
   "execution_count": 157,
   "metadata": {
    "hidden": true
   },
   "outputs": [
    {
     "name": "stderr",
     "output_type": "stream",
     "text": [
      "/home/vrutti/.conda/envs/temp/lib/python3.6/site-packages/sklearn/utils/deprecation.py:125: FutureWarning: You are accessing a training score ('mean_train_score'), which will not be available by default any more in 0.21. If you need training scores, please set return_train_score=True\n",
      "  warnings.warn(*warn_args, **warn_kwargs)\n"
     ]
    }
   ],
   "source": [
    "a1 = random_search.cv_results_['param_bootstrap']\n",
    "a2 = random_search.cv_results_['param_class_weight']\n",
    "a3 = random_search.cv_results_['param_criterion']\n",
    "a4 = random_search.cv_results_['param_max_depth']\n",
    "a5 = random_search.cv_results_['param_min_samples_split']\n",
    "\n",
    "a6 = random_search.cv_results_['mean_train_score']\n",
    "a7 = random_search.cv_results_['mean_test_score']"
   ]
  },
  {
   "cell_type": "code",
   "execution_count": 158,
   "metadata": {
    "hidden": true
   },
   "outputs": [
    {
     "name": "stdout",
     "output_type": "stream",
     "text": [
      "{'bootstrap': True, 'class_weight': None, 'criterion': 'gini', 'max_depth': None, 'min_samples_split': 7}\n"
     ]
    }
   ],
   "source": [
    "print(random_search.best_params_)"
   ]
  },
  {
   "cell_type": "code",
   "execution_count": 159,
   "metadata": {
    "hidden": true
   },
   "outputs": [
    {
     "name": "stdout",
     "output_type": "stream",
     "text": [
      "['bootstrap', 'class_weight', 'criterion', 'max_depth', 'min_samples_split', 'mean_train_score', 'mean_test_score']\n"
     ]
    }
   ],
   "source": [
    "arr = []\n",
    "for key in random_search.best_params_.keys():\n",
    "    arr.append(key)\n",
    "    \n",
    "arr.append('mean_train_score')\n",
    "arr.append('mean_test_score')\n",
    "print(arr)"
   ]
  },
  {
   "cell_type": "code",
   "execution_count": 160,
   "metadata": {
    "hidden": true
   },
   "outputs": [],
   "source": [
    "write_csv('output/random_forest.csv', a1, a2, a3, a4, a5, a6, a7, arr)"
   ]
  },
  {
   "cell_type": "code",
   "execution_count": null,
   "metadata": {
    "hidden": true
   },
   "outputs": [],
   "source": []
  },
  {
   "cell_type": "code",
   "execution_count": 173,
   "metadata": {
    "hidden": true
   },
   "outputs": [
    {
     "data": {
      "text/plain": [
       "0.8682539682539683"
      ]
     },
     "execution_count": 173,
     "metadata": {},
     "output_type": "execute_result"
    }
   ],
   "source": [
    "y1 = random_search.predict(features_val)\n",
    "metrics.accuracy_score(y1, val_y)"
   ]
  },
  {
   "cell_type": "markdown",
   "metadata": {
    "heading_collapsed": true,
    "hidden": true
   },
   "source": [
    "### CM"
   ]
  },
  {
   "cell_type": "code",
   "execution_count": 368,
   "metadata": {
    "hidden": true
   },
   "outputs": [],
   "source": [
    "y_hat1 = model1.predict(features_val)\n",
    "y_hat2 = model2.predict(features_val)\n",
    "y_hat3 = model3.predict(features_val)\n",
    "y_hat4 = model4.predict(features_val)\n",
    "y_hat5 = model5.predict(features_val)\n",
    "y_hat6 = model6.predict(features_val)\n",
    "y_hat7 = model7.predict(features_val)"
   ]
  },
  {
   "cell_type": "code",
   "execution_count": 369,
   "metadata": {
    "hidden": true
   },
   "outputs": [],
   "source": [
    "cm1 = MetricTools.confusion_matrix(val_y, y_hat1, 2)\n",
    "cm2 = MetricTools.confusion_matrix(val_y, y_hat2, 2)\n",
    "cm3 = MetricTools.confusion_matrix(val_y, y_hat3, 2)\n",
    "cm4 = MetricTools.confusion_matrix(val_y, y_hat4, 2)\n",
    "cm5 = MetricTools.confusion_matrix(val_y, y_hat5, 2)\n",
    "cm6 = MetricTools.confusion_matrix(val_y, y_hat6, 2)\n",
    "cm7 = MetricTools.confusion_matrix(val_y, y_hat7, 2)"
   ]
  },
  {
   "cell_type": "code",
   "execution_count": 370,
   "metadata": {
    "hidden": true
   },
   "outputs": [
    {
     "name": "stdout",
     "output_type": "stream",
     "text": [
      "[[1794.  417.]\n",
      " [ 415. 1784.]]\n",
      "[[1823.  388.]\n",
      " [ 414. 1785.]]\n",
      "[[1764.  447.]\n",
      " [ 394. 1805.]]\n",
      "[[1537.  674.]\n",
      " [ 428. 1771.]]\n",
      "[[1821.  390.]\n",
      " [ 339. 1860.]]\n",
      "[[1840.  371.]\n",
      " [ 351. 1848.]]\n",
      "[[1572.  639.]\n",
      " [ 568. 1631.]]\n"
     ]
    }
   ],
   "source": [
    "print(cm1)\n",
    "print(cm2)\n",
    "print(cm3)\n",
    "print(cm4)\n",
    "print(cm5)\n",
    "print(cm6)\n",
    "print(cm7)"
   ]
  },
  {
   "cell_type": "code",
   "execution_count": 86,
   "metadata": {
    "hidden": true
   },
   "outputs": [
    {
     "data": {
      "image/png": "[encoded data removed]",
      "text/plain": [
       "<Figure size 504x504 with 2 Axes>"
      ]
     },
     "metadata": {
      "needs_background": "light"
     },
     "output_type": "display_data"
    }
   ],
   "source": [
    "PlotTools.confusion_matrix(cm1, list(range(2)))"
   ]
  },
  {
   "cell_type": "markdown",
   "metadata": {
    "heading_collapsed": true,
    "hidden": true
   },
   "source": [
    "### Model Stacking:"
   ]
  },
  {
   "cell_type": "code",
   "execution_count": 115,
   "metadata": {
    "hidden": true
   },
   "outputs": [
    {
     "data": {
      "text/plain": [
       "((17636, 50), (4410, 50))"
      ]
     },
     "execution_count": 115,
     "metadata": {},
     "output_type": "execute_result"
    }
   ],
   "source": [
    "features_train1 = None\n",
    "features_val1 = None\n",
    "evs = []\n",
    "for ft, fv in zip([pca_hist_train, pca_hog_train, pca_lbp_train], \n",
    "                  [pca_hist_val, pca_hog_val, pca_lbp_val]):    \n",
    "#     scaler = preprocessing.StandardScaler()\n",
    "#     ft = scaler.fit_transform(ft)\n",
    "#     fv = scaler.transform(fv)\n",
    "#     ft = preprocessing.normalize(ft)\n",
    "#     fv = preprocessing.normalize(fv)\n",
    "    if features_train1 is None:\n",
    "        features_train1 = ft\n",
    "        features_val1 = fv\n",
    "    else:\n",
    "        features_train1 = combine_features([features_train1, ft])\n",
    "        features_val1 = combine_features([features_val1, fv])\n",
    "features_train1.shape, features_val1.shape"
   ]
  },
  {
   "cell_type": "code",
   "execution_count": 116,
   "metadata": {
    "hidden": true
   },
   "outputs": [
    {
     "name": "stdout",
     "output_type": "stream",
     "text": [
      "Validation Accuracy in 'XGB' = 0.8260770975056689\n"
     ]
    }
   ],
   "source": [
    "model1 = train_model(features_train1, train_y, model_name='XGB', validation=(features_val1, val_y))\n",
    "prob1 = model1.predict_proba(features_val1)"
   ]
  },
  {
   "cell_type": "code",
   "execution_count": 118,
   "metadata": {
    "hidden": true
   },
   "outputs": [
    {
     "data": {
      "text/plain": [
       "((17636, 50), (4410, 50))"
      ]
     },
     "execution_count": 118,
     "metadata": {},
     "output_type": "execute_result"
    }
   ],
   "source": [
    "features_train2 = None\n",
    "features_val2 = None\n",
    "evs = []\n",
    "for ft, fv in zip([pca_hist_train, pca_flat_gray_train, pca_flat_rgb_train], \n",
    "                  [pca_hist_val, pca_flat_gray_val, pca_flat_rgb_val]):    \n",
    "#     scaler = preprocessing.StandardScaler()\n",
    "#     ft = scaler.fit_transform(ft)\n",
    "#     fv = scaler.transform(fv)\n",
    "#     ft = preprocessing.normalize(ft)\n",
    "#     fv = preprocessing.normalize(fv)\n",
    "    if features_train2 is None:\n",
    "        features_train2 = ft\n",
    "        features_val2 = fv\n",
    "    else:\n",
    "        features_train2 = combine_features([features_train2, ft])\n",
    "        features_val2 = combine_features([features_val2, fv])\n",
    "features_train2.shape, features_val2.shape"
   ]
  },
  {
   "cell_type": "code",
   "execution_count": 119,
   "metadata": {
    "hidden": true
   },
   "outputs": [
    {
     "name": "stdout",
     "output_type": "stream",
     "text": [
      "Validation Accuracy in 'XGB' = 0.7816326530612245\n"
     ]
    }
   ],
   "source": [
    "model2 = train_model(features_train2, train_y, model_name='XGB', validation=(features_val2, val_y))\n",
    "prob2 = model2.predict_proba(features_val2)"
   ]
  },
  {
   "cell_type": "code",
   "execution_count": 120,
   "metadata": {
    "hidden": true
   },
   "outputs": [
    {
     "data": {
      "text/plain": [
       "((17636, 38), (4410, 38))"
      ]
     },
     "execution_count": 120,
     "metadata": {},
     "output_type": "execute_result"
    }
   ],
   "source": [
    "features_train3 = None\n",
    "features_val3 = None\n",
    "evs = []\n",
    "for ft, fv in zip([pca_kaze_train, pca_sift_train, pca_surf_train], \n",
    "                  [pca_kaze_val, pca_sift_val, pca_surf_val]):    \n",
    "#     scaler = preprocessing.StandardScaler()\n",
    "#     ft = scaler.fit_transform(ft)\n",
    "#     fv = scaler.transform(fv)\n",
    "#     ft = preprocessing.normalize(ft)\n",
    "#     fv = preprocessing.normalize(fv)\n",
    "    if features_train3 is None:\n",
    "        features_train3 = ft\n",
    "        features_val3 = fv\n",
    "    else:\n",
    "        features_train3 = combine_features([features_train3, ft])\n",
    "        features_val3 = combine_features([features_val3, fv])\n",
    "features_train3.shape, features_val3.shape"
   ]
  },
  {
   "cell_type": "code",
   "execution_count": 121,
   "metadata": {
    "hidden": true
   },
   "outputs": [
    {
     "name": "stdout",
     "output_type": "stream",
     "text": [
      "Validation Accuracy in 'XGB' = 0.7639455782312925\n"
     ]
    }
   ],
   "source": [
    "model3 = train_model(features_train3, train_y, model_name='XGB', validation=(features_val3, val_y))\n",
    "prob3 = model3.predict_proba(features_val3)"
   ]
  },
  {
   "cell_type": "code",
   "execution_count": 93,
   "metadata": {
    "hidden": true
   },
   "outputs": [],
   "source": [
    "prob1 = model1.predict_proba(features_val)\n",
    "prob2 = model2.predict_proba(features_val)\n",
    "prob3 = model3.predict_proba(features_val)\n",
    "prob4 = model4.predict_proba(features_val)\n",
    "#prob5 = model5.score(features_val, )\n",
    "prob6 = model6.predict_proba(features_val)"
   ]
  },
  {
   "cell_type": "code",
   "execution_count": 94,
   "metadata": {
    "hidden": true
   },
   "outputs": [],
   "source": [
    "prob = (prob1 + prob2 + prob3 + prob4 + prob6) / 5\n",
    "y_hat = np.argmax(prob, axis=1)"
   ]
  },
  {
   "cell_type": "code",
   "execution_count": 95,
   "metadata": {
    "hidden": true
   },
   "outputs": [
    {
     "data": {
      "text/plain": [
       "0.7839002267573696"
      ]
     },
     "execution_count": 95,
     "metadata": {},
     "output_type": "execute_result"
    }
   ],
   "source": [
    "metrics.accuracy_score(val_y, y_hat)"
   ]
  },
  {
   "cell_type": "code",
   "execution_count": 200,
   "metadata": {
    "hidden": true
   },
   "outputs": [],
   "source": [
    "y_hat = model.predict(features_val)"
   ]
  },
  {
   "cell_type": "code",
   "execution_count": 201,
   "metadata": {
    "hidden": true
   },
   "outputs": [],
   "source": [
    "cm = MetricTools.confusion_matrix(val_y, y_hat, 20)"
   ]
  },
  {
   "cell_type": "code",
   "execution_count": 202,
   "metadata": {
    "collapsed": true,
    "hidden": true
   },
   "outputs": [
    {
     "data": {
      "image/png": "[encoded data removed]",
      "text/plain": [
       "<Figure size 504x504 with 2 Axes>"
      ]
     },
     "metadata": {
      "needs_background": "light"
     },
     "output_type": "display_data"
    }
   ],
   "source": [
    "PlotTools.confusion_matrix(cm, list(range(20)))"
   ]
  },
  {
   "cell_type": "code",
   "execution_count": 75,
   "metadata": {
    "collapsed": true,
    "hidden": true
   },
   "outputs": [
    {
     "data": {
      "image/png": "[encoded data removed]",
      "text/plain": [
       "<Figure size 504x504 with 2 Axes>"
      ]
     },
     "metadata": {
      "needs_background": "light"
     },
     "output_type": "display_data"
    }
   ],
   "source": [
    "PlotTools.confusion_matrix(cm, list(range(20)))"
   ]
  },
  {
   "cell_type": "code",
   "execution_count": 96,
   "metadata": {
    "collapsed": true,
    "hidden": true
   },
   "outputs": [
    {
     "data": {
      "text/plain": [
       "<matplotlib.image.AxesImage at 0x7f27d492df60>"
      ]
     },
     "execution_count": 96,
     "metadata": {},
     "output_type": "execute_result"
    },
    {
     "data": {
      "image/png": "[encoded data removed]",
      "text/plain": [
       "<Figure size 432x288 with 1 Axes>"
      ]
     },
     "metadata": {
      "needs_background": "light"
     },
     "output_type": "display_data"
    }
   ],
   "source": [
    "plt.imshow(train_imgs[train_y == 14][3])"
   ]
  },
  {
   "cell_type": "code",
   "execution_count": null,
   "metadata": {
    "hidden": true
   },
   "outputs": [],
   "source": []
  }
 ],
 "metadata": {
  "kernelspec": {
   "display_name": "Python 3",
   "language": "python",
   "name": "python3"
  },
  "language_info": {
   "codemirror_mode": {
    "name": "ipython",
    "version": 3
   },
   "file_extension": ".py",
   "mimetype": "text/x-python",
   "name": "python",
   "nbconvert_exporter": "python",
   "pygments_lexer": "ipython3",
   "version": "3.6.6"
  }
 },
 "nbformat": 4,
 "nbformat_minor": 2
}
